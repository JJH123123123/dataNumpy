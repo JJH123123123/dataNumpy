{
 "cells": [
  {
   "cell_type": "code",
   "execution_count": 2,
   "id": "19a033e9",
   "metadata": {},
   "outputs": [],
   "source": [
    "import numpy as np\n",
    "import pandas as pd\n",
    "import matplotlib.pyplot as plt\n",
    "from sklearn import datasets"
   ]
  },
  {
   "cell_type": "code",
   "execution_count": 4,
   "id": "cd52a0b9",
   "metadata": {},
   "outputs": [],
   "source": [
    "cancer = datasets.load_breast_cancer()"
   ]
  },
  {
   "cell_type": "code",
   "execution_count": 13,
   "id": "c919bb3e",
   "metadata": {},
   "outputs": [],
   "source": [
    "X = pd.DataFrame(cancer.data, columns = cancer.feature_names)"
   ]
  },
  {
   "cell_type": "code",
   "execution_count": 6,
   "id": "4830c56d",
   "metadata": {},
   "outputs": [],
   "source": [
    "y = pd.Series(cancer.target)"
   ]
  },
  {
   "cell_type": "code",
   "execution_count": 9,
   "id": "045e9f98",
   "metadata": {},
   "outputs": [],
   "source": [
    "# PCA"
   ]
  },
  {
   "cell_type": "code",
   "execution_count": 10,
   "id": "e97a773c",
   "metadata": {},
   "outputs": [],
   "source": [
    "from sklearn.preprocessing import StandardScaler\n",
    "from sklearn.decomposition import PCA"
   ]
  },
  {
   "cell_type": "code",
   "execution_count": 11,
   "id": "cee10a79",
   "metadata": {},
   "outputs": [],
   "source": [
    "sc = StandardScaler()"
   ]
  },
  {
   "cell_type": "code",
   "execution_count": 15,
   "id": "1e2f8875",
   "metadata": {},
   "outputs": [],
   "source": [
    "X = sc.fit_transform(X)"
   ]
  },
  {
   "cell_type": "code",
   "execution_count": 17,
   "id": "9bbcee07",
   "metadata": {},
   "outputs": [
    {
     "data": {
      "text/plain": [
       "(569, 30)"
      ]
     },
     "execution_count": 17,
     "metadata": {},
     "output_type": "execute_result"
    }
   ],
   "source": [
    "X.shape"
   ]
  },
  {
   "cell_type": "code",
   "execution_count": 18,
   "id": "26094fc7",
   "metadata": {},
   "outputs": [],
   "source": [
    "pca = PCA(n_components = 2)"
   ]
  },
  {
   "cell_type": "code",
   "execution_count": 20,
   "id": "238d0e1f",
   "metadata": {},
   "outputs": [
    {
     "data": {
      "text/plain": [
       "['__abstractmethods__',\n",
       " '__class__',\n",
       " '__delattr__',\n",
       " '__dict__',\n",
       " '__dir__',\n",
       " '__doc__',\n",
       " '__eq__',\n",
       " '__format__',\n",
       " '__ge__',\n",
       " '__getattribute__',\n",
       " '__getstate__',\n",
       " '__gt__',\n",
       " '__hash__',\n",
       " '__init__',\n",
       " '__init_subclass__',\n",
       " '__le__',\n",
       " '__lt__',\n",
       " '__module__',\n",
       " '__ne__',\n",
       " '__new__',\n",
       " '__reduce__',\n",
       " '__reduce_ex__',\n",
       " '__repr__',\n",
       " '__setattr__',\n",
       " '__setstate__',\n",
       " '__sizeof__',\n",
       " '__str__',\n",
       " '__subclasshook__',\n",
       " '__weakref__',\n",
       " '_abc_impl',\n",
       " '_check_feature_names',\n",
       " '_check_n_features',\n",
       " '_fit',\n",
       " '_fit_full',\n",
       " '_fit_truncated',\n",
       " '_get_param_names',\n",
       " '_get_tags',\n",
       " '_more_tags',\n",
       " '_repr_html_',\n",
       " '_repr_html_inner',\n",
       " '_repr_mimebundle_',\n",
       " '_validate_data',\n",
       " 'copy',\n",
       " 'fit',\n",
       " 'fit_transform',\n",
       " 'get_covariance',\n",
       " 'get_params',\n",
       " 'get_precision',\n",
       " 'inverse_transform',\n",
       " 'iterated_power',\n",
       " 'n_components',\n",
       " 'random_state',\n",
       " 'score',\n",
       " 'score_samples',\n",
       " 'set_params',\n",
       " 'svd_solver',\n",
       " 'tol',\n",
       " 'transform',\n",
       " 'whiten']"
      ]
     },
     "execution_count": 20,
     "metadata": {},
     "output_type": "execute_result"
    }
   ],
   "source": [
    "dir(pca)"
   ]
  },
  {
   "cell_type": "code",
   "execution_count": 23,
   "id": "fd10f6ba",
   "metadata": {},
   "outputs": [],
   "source": [
    "pca_data = pca.fit_transform(X)"
   ]
  },
  {
   "cell_type": "code",
   "execution_count": 29,
   "id": "0e9bb37f",
   "metadata": {},
   "outputs": [
    {
     "data": {
      "text/plain": [
       "30"
      ]
     },
     "execution_count": 29,
     "metadata": {},
     "output_type": "execute_result"
    }
   ],
   "source": [
    "len(cancer.feature_names)"
   ]
  },
  {
   "cell_type": "code",
   "execution_count": 30,
   "id": "c9e38b4c",
   "metadata": {},
   "outputs": [],
   "source": [
    "pca_data_df = pd.DataFrame(pca_data, columns = ['PCA 1', 'PCA 2'])"
   ]
  },
  {
   "cell_type": "code",
   "execution_count": 31,
   "id": "e4b7c59a",
   "metadata": {},
   "outputs": [
    {
     "data": {
      "text/html": [
       "<div>\n",
       "<style scoped>\n",
       "    .dataframe tbody tr th:only-of-type {\n",
       "        vertical-align: middle;\n",
       "    }\n",
       "\n",
       "    .dataframe tbody tr th {\n",
       "        vertical-align: top;\n",
       "    }\n",
       "\n",
       "    .dataframe thead th {\n",
       "        text-align: right;\n",
       "    }\n",
       "</style>\n",
       "<table border=\"1\" class=\"dataframe\">\n",
       "  <thead>\n",
       "    <tr style=\"text-align: right;\">\n",
       "      <th></th>\n",
       "      <th>PCA 1</th>\n",
       "      <th>PCA 2</th>\n",
       "    </tr>\n",
       "  </thead>\n",
       "  <tbody>\n",
       "    <tr>\n",
       "      <th>0</th>\n",
       "      <td>9.192837</td>\n",
       "      <td>1.948583</td>\n",
       "    </tr>\n",
       "    <tr>\n",
       "      <th>1</th>\n",
       "      <td>2.387802</td>\n",
       "      <td>-3.768172</td>\n",
       "    </tr>\n",
       "    <tr>\n",
       "      <th>2</th>\n",
       "      <td>5.733896</td>\n",
       "      <td>-1.075174</td>\n",
       "    </tr>\n",
       "    <tr>\n",
       "      <th>3</th>\n",
       "      <td>7.122953</td>\n",
       "      <td>10.275589</td>\n",
       "    </tr>\n",
       "    <tr>\n",
       "      <th>4</th>\n",
       "      <td>3.935302</td>\n",
       "      <td>-1.948072</td>\n",
       "    </tr>\n",
       "    <tr>\n",
       "      <th>...</th>\n",
       "      <td>...</td>\n",
       "      <td>...</td>\n",
       "    </tr>\n",
       "    <tr>\n",
       "      <th>564</th>\n",
       "      <td>6.439315</td>\n",
       "      <td>-3.576817</td>\n",
       "    </tr>\n",
       "    <tr>\n",
       "      <th>565</th>\n",
       "      <td>3.793382</td>\n",
       "      <td>-3.584048</td>\n",
       "    </tr>\n",
       "    <tr>\n",
       "      <th>566</th>\n",
       "      <td>1.256179</td>\n",
       "      <td>-1.902297</td>\n",
       "    </tr>\n",
       "    <tr>\n",
       "      <th>567</th>\n",
       "      <td>10.374794</td>\n",
       "      <td>1.672010</td>\n",
       "    </tr>\n",
       "    <tr>\n",
       "      <th>568</th>\n",
       "      <td>-5.475243</td>\n",
       "      <td>-0.670637</td>\n",
       "    </tr>\n",
       "  </tbody>\n",
       "</table>\n",
       "<p>569 rows × 2 columns</p>\n",
       "</div>"
      ],
      "text/plain": [
       "         PCA 1      PCA 2\n",
       "0     9.192837   1.948583\n",
       "1     2.387802  -3.768172\n",
       "2     5.733896  -1.075174\n",
       "3     7.122953  10.275589\n",
       "4     3.935302  -1.948072\n",
       "..         ...        ...\n",
       "564   6.439315  -3.576817\n",
       "565   3.793382  -3.584048\n",
       "566   1.256179  -1.902297\n",
       "567  10.374794   1.672010\n",
       "568  -5.475243  -0.670637\n",
       "\n",
       "[569 rows x 2 columns]"
      ]
     },
     "execution_count": 31,
     "metadata": {},
     "output_type": "execute_result"
    }
   ],
   "source": [
    "pca_data_df"
   ]
  },
  {
   "cell_type": "code",
   "execution_count": 35,
   "id": "c797af58",
   "metadata": {},
   "outputs": [],
   "source": [
    "X_pca_two = pca_data_df"
   ]
  },
  {
   "cell_type": "code",
   "execution_count": 36,
   "id": "e1e6c76c",
   "metadata": {},
   "outputs": [
    {
     "data": {
      "text/html": [
       "<div>\n",
       "<style scoped>\n",
       "    .dataframe tbody tr th:only-of-type {\n",
       "        vertical-align: middle;\n",
       "    }\n",
       "\n",
       "    .dataframe tbody tr th {\n",
       "        vertical-align: top;\n",
       "    }\n",
       "\n",
       "    .dataframe thead th {\n",
       "        text-align: right;\n",
       "    }\n",
       "</style>\n",
       "<table border=\"1\" class=\"dataframe\">\n",
       "  <thead>\n",
       "    <tr style=\"text-align: right;\">\n",
       "      <th></th>\n",
       "      <th>PCA 1</th>\n",
       "      <th>PCA 2</th>\n",
       "    </tr>\n",
       "  </thead>\n",
       "  <tbody>\n",
       "    <tr>\n",
       "      <th>0</th>\n",
       "      <td>9.192837</td>\n",
       "      <td>1.948583</td>\n",
       "    </tr>\n",
       "    <tr>\n",
       "      <th>1</th>\n",
       "      <td>2.387802</td>\n",
       "      <td>-3.768172</td>\n",
       "    </tr>\n",
       "    <tr>\n",
       "      <th>2</th>\n",
       "      <td>5.733896</td>\n",
       "      <td>-1.075174</td>\n",
       "    </tr>\n",
       "    <tr>\n",
       "      <th>3</th>\n",
       "      <td>7.122953</td>\n",
       "      <td>10.275589</td>\n",
       "    </tr>\n",
       "    <tr>\n",
       "      <th>4</th>\n",
       "      <td>3.935302</td>\n",
       "      <td>-1.948072</td>\n",
       "    </tr>\n",
       "    <tr>\n",
       "      <th>...</th>\n",
       "      <td>...</td>\n",
       "      <td>...</td>\n",
       "    </tr>\n",
       "    <tr>\n",
       "      <th>564</th>\n",
       "      <td>6.439315</td>\n",
       "      <td>-3.576817</td>\n",
       "    </tr>\n",
       "    <tr>\n",
       "      <th>565</th>\n",
       "      <td>3.793382</td>\n",
       "      <td>-3.584048</td>\n",
       "    </tr>\n",
       "    <tr>\n",
       "      <th>566</th>\n",
       "      <td>1.256179</td>\n",
       "      <td>-1.902297</td>\n",
       "    </tr>\n",
       "    <tr>\n",
       "      <th>567</th>\n",
       "      <td>10.374794</td>\n",
       "      <td>1.672010</td>\n",
       "    </tr>\n",
       "    <tr>\n",
       "      <th>568</th>\n",
       "      <td>-5.475243</td>\n",
       "      <td>-0.670637</td>\n",
       "    </tr>\n",
       "  </tbody>\n",
       "</table>\n",
       "<p>569 rows × 2 columns</p>\n",
       "</div>"
      ],
      "text/plain": [
       "         PCA 1      PCA 2\n",
       "0     9.192837   1.948583\n",
       "1     2.387802  -3.768172\n",
       "2     5.733896  -1.075174\n",
       "3     7.122953  10.275589\n",
       "4     3.935302  -1.948072\n",
       "..         ...        ...\n",
       "564   6.439315  -3.576817\n",
       "565   3.793382  -3.584048\n",
       "566   1.256179  -1.902297\n",
       "567  10.374794   1.672010\n",
       "568  -5.475243  -0.670637\n",
       "\n",
       "[569 rows x 2 columns]"
      ]
     },
     "execution_count": 36,
     "metadata": {},
     "output_type": "execute_result"
    }
   ],
   "source": [
    "X_pca_two"
   ]
  },
  {
   "cell_type": "code",
   "execution_count": 47,
   "id": "91e92ab5",
   "metadata": {
    "scrolled": true
   },
   "outputs": [
    {
     "data": {
      "text/plain": [
       "Text(0, 0.5, 'PCA 2')"
      ]
     },
     "execution_count": 47,
     "metadata": {},
     "output_type": "execute_result"
    },
    {
     "data": {
      "image/png": "[encoded data removed]",
      "text/plain": [
       "<Figure size 432x288 with 1 Axes>"
      ]
     },
     "metadata": {
      "needs_background": "light"
     },
     "output_type": "display_data"
    }
   ],
   "source": [
    "plt.figure()\n",
    "plt.scatter(X_pca_two.iloc[:,0], X_pca_two.iloc[:,1], c = y, cmap = plt.cm.coolwarm)\n",
    "plt.xlabel(X_pca_two.columns[0])\n",
    "plt.ylabel(X_pca_two.columns[1])"
   ]
  },
  {
   "cell_type": "code",
   "execution_count": 64,
   "id": "a5a7c519",
   "metadata": {},
   "outputs": [
    {
     "name": "stdout",
     "output_type": "stream",
     "text": [
      "357 212\n"
     ]
    }
   ],
   "source": [
    "cnt_0 = 0\n",
    "cnt_1 = 0\n",
    "for data in y:\n",
    "    if data: cnt_1+=1\n",
    "    else: cnt_0+=1\n",
    "print(cnt_1, cnt_0)"
   ]
  },
  {
   "cell_type": "code",
   "execution_count": 58,
   "id": "94a79555",
   "metadata": {},
   "outputs": [
    {
     "data": {
      "text/plain": [
       "0      False\n",
       "1      False\n",
       "2      False\n",
       "3      False\n",
       "4      False\n",
       "       ...  \n",
       "564    False\n",
       "565    False\n",
       "566    False\n",
       "567    False\n",
       "568     True\n",
       "Length: 569, dtype: bool"
      ]
     },
     "execution_count": 58,
     "metadata": {},
     "output_type": "execute_result"
    }
   ],
   "source": []
  },
  {
   "cell_type": "code",
   "execution_count": 65,
   "id": "f53da6b2",
   "metadata": {},
   "outputs": [],
   "source": [
    "from sklearn import svm"
   ]
  },
  {
   "cell_type": "code",
   "execution_count": 72,
   "id": "1d13ad6a",
   "metadata": {},
   "outputs": [
    {
     "name": "stderr",
     "output_type": "stream",
     "text": [
      "/opt/homebrew/Caskroom/miniforge/base/lib/python3.9/site-packages/sklearn/base.py:450: UserWarning: X does not have valid feature names, but SVC was fitted with feature names\n",
      "  warnings.warn(\n"
     ]
    },
    {
     "data": {
      "text/plain": [
       "Text(0, 0.5, 'PCA 2')"
      ]
     },
     "execution_count": 72,
     "metadata": {},
     "output_type": "execute_result"
    },
    {
     "data": {
      "image/png": "[encoded data removed]",
      "text/plain": [
       "<Figure size 432x288 with 1 Axes>"
      ]
     },
     "metadata": {
      "needs_background": "light"
     },
     "output_type": "display_data"
    }
   ],
   "source": [
    "clf = svm.SVC(kernel = 'linear')\n",
    "h = 0.02\n",
    "x_min, x_max, = X_pca_two.iloc[:,0].min()-1,  X_pca_two.iloc[:,0].max()+1\n",
    "y_min, y_max, = X_pca_two.iloc[:,1].min()-1,  X_pca_two.iloc[:,1].max()+1\n",
    "xx, yy = np.meshgrid(np.arange(x_min, x_max, h), np.arange(y_min, y_max, h))\n",
    "clf.fit(X_pca_two, y)\n",
    "z = clf.predict(np.c_[xx.ravel(), yy.ravel()])\n",
    "Z = z.reshape(xx.shape)\n",
    "\n",
    "plt.contourf(xx, yy, Z, cmap=plt.cm.coolwarm)\n",
    "plt.scatter(X_pca_two.iloc[:,0], X_pca_two.iloc[:,1], c=y, cmap = plt.cm.coolwarm, s=20, edgecolor = 'k')\n",
    "plt.xlabel(X_pca_two.columns[0])\n",
    "plt.ylabel(X_pca_two.columns[1])\n",
    "\n",
    "\n",
    "\n"
   ]
  },
  {
   "cell_type": "code",
   "execution_count": null,
   "id": "bbe41e67",
   "metadata": {},
   "outputs": [],
   "source": [
    "# dimensionality Reduction PCA "
   ]
  },
  {
   "cell_type": "code",
   "execution_count": 73,
   "id": "92dc7670",
   "metadata": {},
   "outputs": [],
   "source": [
    "iris = datasets.load_iris()"
   ]
  },
  {
   "cell_type": "code",
   "execution_count": 74,
   "id": "d8958ef0",
   "metadata": {},
   "outputs": [],
   "source": [
    "X = pd.DataFrame(iris.data, columns = iris.feature_names)"
   ]
  },
  {
   "cell_type": "code",
   "execution_count": 75,
   "id": "612916b6",
   "metadata": {},
   "outputs": [],
   "source": [
    "y = pd.Series(iris.target)"
   ]
  },
  {
   "cell_type": "code",
   "execution_count": 76,
   "id": "963ce31a",
   "metadata": {},
   "outputs": [
    {
     "data": {
      "text/plain": [
       "0      0\n",
       "1      0\n",
       "2      0\n",
       "3      0\n",
       "4      0\n",
       "      ..\n",
       "145    2\n",
       "146    2\n",
       "147    2\n",
       "148    2\n",
       "149    2\n",
       "Length: 150, dtype: int64"
      ]
     },
     "execution_count": 76,
     "metadata": {},
     "output_type": "execute_result"
    }
   ],
   "source": [
    "y"
   ]
  },
  {
   "cell_type": "code",
   "execution_count": 77,
   "id": "c46e0116",
   "metadata": {},
   "outputs": [],
   "source": [
    "sc = StandardScaler()"
   ]
  },
  {
   "cell_type": "code",
   "execution_count": 78,
   "id": "b4e02268",
   "metadata": {},
   "outputs": [],
   "source": [
    "X_scaled = sc.fit_transform(X)"
   ]
  },
  {
   "cell_type": "code",
   "execution_count": 84,
   "id": "0d117821",
   "metadata": {},
   "outputs": [
    {
     "data": {
      "text/plain": [
       "(150, 4)"
      ]
     },
     "execution_count": 84,
     "metadata": {},
     "output_type": "execute_result"
    }
   ],
   "source": [
    "X_scaled.shape"
   ]
  },
  {
   "cell_type": "code",
   "execution_count": 79,
   "id": "c1661072",
   "metadata": {},
   "outputs": [],
   "source": [
    "pca = PCA(n_components=2)"
   ]
  },
  {
   "cell_type": "code",
   "execution_count": 80,
   "id": "dbe9ef31",
   "metadata": {},
   "outputs": [],
   "source": [
    "pca_data = pca.fit_transform(X_scaled)"
   ]
  },
  {
   "cell_type": "code",
   "execution_count": 85,
   "id": "8adb6be7",
   "metadata": {},
   "outputs": [
    {
     "data": {
      "text/plain": [
       "(150, 2)"
      ]
     },
     "execution_count": 85,
     "metadata": {},
     "output_type": "execute_result"
    }
   ],
   "source": [
    "pca_data.shape"
   ]
  },
  {
   "cell_type": "code",
   "execution_count": 86,
   "id": "bbf71c35",
   "metadata": {},
   "outputs": [],
   "source": [
    "X_pca = pd.DataFrame(pca_data, columns = ['PCA 1', 'PCA 2'])"
   ]
  },
  {
   "cell_type": "code",
   "execution_count": 87,
   "id": "161179c6",
   "metadata": {},
   "outputs": [
    {
     "data": {
      "text/html": [
       "<div>\n",
       "<style scoped>\n",
       "    .dataframe tbody tr th:only-of-type {\n",
       "        vertical-align: middle;\n",
       "    }\n",
       "\n",
       "    .dataframe tbody tr th {\n",
       "        vertical-align: top;\n",
       "    }\n",
       "\n",
       "    .dataframe thead th {\n",
       "        text-align: right;\n",
       "    }\n",
       "</style>\n",
       "<table border=\"1\" class=\"dataframe\">\n",
       "  <thead>\n",
       "    <tr style=\"text-align: right;\">\n",
       "      <th></th>\n",
       "      <th>PCA 1</th>\n",
       "      <th>PCA 2</th>\n",
       "    </tr>\n",
       "  </thead>\n",
       "  <tbody>\n",
       "    <tr>\n",
       "      <th>0</th>\n",
       "      <td>-2.264703</td>\n",
       "      <td>0.480027</td>\n",
       "    </tr>\n",
       "    <tr>\n",
       "      <th>1</th>\n",
       "      <td>-2.080961</td>\n",
       "      <td>-0.674134</td>\n",
       "    </tr>\n",
       "    <tr>\n",
       "      <th>2</th>\n",
       "      <td>-2.364229</td>\n",
       "      <td>-0.341908</td>\n",
       "    </tr>\n",
       "    <tr>\n",
       "      <th>3</th>\n",
       "      <td>-2.299384</td>\n",
       "      <td>-0.597395</td>\n",
       "    </tr>\n",
       "    <tr>\n",
       "      <th>4</th>\n",
       "      <td>-2.389842</td>\n",
       "      <td>0.646835</td>\n",
       "    </tr>\n",
       "  </tbody>\n",
       "</table>\n",
       "</div>"
      ],
      "text/plain": [
       "      PCA 1     PCA 2\n",
       "0 -2.264703  0.480027\n",
       "1 -2.080961 -0.674134\n",
       "2 -2.364229 -0.341908\n",
       "3 -2.299384 -0.597395\n",
       "4 -2.389842  0.646835"
      ]
     },
     "execution_count": 87,
     "metadata": {},
     "output_type": "execute_result"
    }
   ],
   "source": [
    "X_pca.head()"
   ]
  },
  {
   "cell_type": "code",
   "execution_count": 104,
   "id": "dd73f7a1",
   "metadata": {},
   "outputs": [],
   "source": [
    "# RandomForest"
   ]
  },
  {
   "cell_type": "code",
   "execution_count": 89,
   "id": "ea664416",
   "metadata": {},
   "outputs": [],
   "source": [
    "from sklearn.ensemble import RandomForestClassifier\n",
    "from sklearn.model_selection import cross_val_score"
   ]
  },
  {
   "cell_type": "code",
   "execution_count": 94,
   "id": "6432cda3",
   "metadata": {},
   "outputs": [],
   "source": [
    "clf_rf = RandomForestClassifier(n_estimators = 100, random_state = 123)"
   ]
  },
  {
   "cell_type": "code",
   "execution_count": 96,
   "id": "2a54d4a4",
   "metadata": {},
   "outputs": [],
   "source": [
    "scores = cross_val_score(clf_rf, X, y, scoring = 'accuracy', cv=5)"
   ]
  },
  {
   "cell_type": "code",
   "execution_count": 97,
   "id": "c9847c44",
   "metadata": {},
   "outputs": [
    {
     "data": {
      "text/plain": [
       "array([0.96666667, 0.96666667, 0.93333333, 0.93333333, 1.        ])"
      ]
     },
     "execution_count": 97,
     "metadata": {},
     "output_type": "execute_result"
    }
   ],
   "source": [
    "scores"
   ]
  },
  {
   "cell_type": "code",
   "execution_count": 98,
   "id": "cdef9ce2",
   "metadata": {},
   "outputs": [],
   "source": [
    "scores_pca = cross_val_score(clf_rf, X_pca, y, scoring = 'accuracy', cv=5)"
   ]
  },
  {
   "cell_type": "code",
   "execution_count": 100,
   "id": "66a7d29f",
   "metadata": {},
   "outputs": [
    {
     "data": {
      "text/plain": [
       "array([ True,  True,  True,  True, False])"
      ]
     },
     "execution_count": 100,
     "metadata": {},
     "output_type": "execute_result"
    }
   ],
   "source": [
    "scores_pca < scores"
   ]
  },
  {
   "cell_type": "code",
   "execution_count": 101,
   "id": "c832c7f8",
   "metadata": {},
   "outputs": [
    {
     "data": {
      "text/plain": [
       "0.96"
      ]
     },
     "execution_count": 101,
     "metadata": {},
     "output_type": "execute_result"
    }
   ],
   "source": [
    "np.mean(scores)"
   ]
  },
  {
   "cell_type": "code",
   "execution_count": 102,
   "id": "f3564fff",
   "metadata": {},
   "outputs": [
    {
     "data": {
      "text/plain": [
       "0.9"
      ]
     },
     "execution_count": 102,
     "metadata": {},
     "output_type": "execute_result"
    }
   ],
   "source": [
    "np.mean(scores_pca)"
   ]
  },
  {
   "cell_type": "code",
   "execution_count": 103,
   "id": "3543d4dc",
   "metadata": {},
   "outputs": [],
   "source": [
    "# clustering "
   ]
  },
  {
   "cell_type": "code",
   "execution_count": 176,
   "id": "a81cb9b8",
   "metadata": {},
   "outputs": [],
   "source": [
    "X, y = datasets.make_blobs(n_samples = 300, centers = 5, random_state=123)"
   ]
  },
  {
   "cell_type": "code",
   "execution_count": 111,
   "id": "4b4de5ec",
   "metadata": {},
   "outputs": [
    {
     "data": {
      "text/plain": [
       "((300, 2), (300,))"
      ]
     },
     "execution_count": 111,
     "metadata": {},
     "output_type": "execute_result"
    }
   ],
   "source": [
    "X.shape, y.shape"
   ]
  },
  {
   "cell_type": "code",
   "execution_count": 177,
   "id": "5788c97c",
   "metadata": {},
   "outputs": [
    {
     "data": {
      "text/plain": [
       "array([1, 3, 0, 0, 4, 0, 0, 4, 0, 3, 1, 2, 2, 2, 2, 2, 1, 0, 0, 4, 2, 1,\n",
       "       3, 0, 4, 4, 0, 0, 2, 4, 1, 1, 2, 2, 0, 4, 2, 4, 1, 3, 1, 3, 4, 1,\n",
       "       3, 0, 3, 1, 1, 1, 3, 3, 4, 1, 4, 0, 2, 3, 4, 4, 0, 0, 0, 2, 2, 4,\n",
       "       0, 4, 2, 1, 0, 3, 0, 3, 4, 1, 2, 1, 0, 2, 1, 2, 4, 2, 3, 2, 2, 4,\n",
       "       4, 2, 4, 3, 1, 1, 0, 0, 1, 0, 0, 0, 4, 0, 3, 2, 4, 2, 1, 3, 4, 4,\n",
       "       1, 0, 2, 2, 1, 0, 1, 2, 3, 1, 2, 4, 4, 4, 1, 1, 0, 1, 4, 0, 0, 4,\n",
       "       2, 0, 3, 0, 3, 4, 4, 3, 4, 3, 0, 4, 1, 3, 2, 3, 2, 4, 3, 0, 0, 3,\n",
       "       1, 4, 0, 1, 1, 2, 0, 0, 0, 0, 1, 0, 3, 1, 1, 4, 4, 1, 1, 3, 0, 2,\n",
       "       0, 3, 3, 4, 4, 3, 1, 3, 4, 4, 3, 3, 4, 2, 1, 4, 1, 0, 2, 3, 0, 0,\n",
       "       4, 3, 2, 4, 4, 0, 2, 3, 2, 0, 2, 0, 4, 3, 4, 1, 3, 4, 1, 1, 3, 2,\n",
       "       0, 1, 2, 2, 1, 4, 2, 3, 3, 3, 2, 2, 3, 3, 3, 4, 2, 2, 3, 0, 1, 1,\n",
       "       4, 3, 1, 2, 1, 4, 4, 1, 2, 2, 0, 1, 2, 0, 3, 2, 4, 3, 3, 1, 1, 4,\n",
       "       0, 2, 3, 2, 2, 3, 3, 1, 3, 2, 2, 2, 1, 4, 3, 1, 3, 0, 2, 4, 1, 4,\n",
       "       1, 0, 2, 3, 0, 2, 3, 0, 3, 1, 4, 3, 1, 0])"
      ]
     },
     "execution_count": 177,
     "metadata": {},
     "output_type": "execute_result"
    }
   ],
   "source": [
    "y"
   ]
  },
  {
   "cell_type": "code",
   "execution_count": 190,
   "id": "027bc95d",
   "metadata": {},
   "outputs": [
    {
     "data": {
      "text/plain": [
       "<matplotlib.collections.PathCollection at 0x158a153a0>"
      ]
     },
     "execution_count": 190,
     "metadata": {},
     "output_type": "execute_result"
    },
    {
     "data": {
      "image/png": "[encoded data removed]",
      "text/plain": [
       "<Figure size 432x288 with 1 Axes>"
      ]
     },
     "metadata": {
      "needs_background": "light"
     },
     "output_type": "display_data"
    }
   ],
   "source": [
    "plt.scatter(X[:,0], X[:,1], c=y, cmap= plt.cm.coolwarm, edgecolor = 'k')"
   ]
  },
  {
   "cell_type": "code",
   "execution_count": 191,
   "id": "5178ceb4",
   "metadata": {},
   "outputs": [],
   "source": [
    "# k-means clustering"
   ]
  },
  {
   "cell_type": "code",
   "execution_count": 192,
   "id": "f959fb0d",
   "metadata": {},
   "outputs": [],
   "source": [
    "from sklearn.cluster import KMeans"
   ]
  },
  {
   "cell_type": "code",
   "execution_count": 193,
   "id": "0da01261",
   "metadata": {},
   "outputs": [],
   "source": [
    "km = KMeans(n_clusters = 5 )"
   ]
  },
  {
   "cell_type": "code",
   "execution_count": 194,
   "id": "56b5bff6",
   "metadata": {},
   "outputs": [
    {
     "data": {
      "text/plain": [
       "KMeans(n_clusters=5)"
      ]
     },
     "execution_count": 194,
     "metadata": {},
     "output_type": "execute_result"
    }
   ],
   "source": [
    "km.fit(X)"
   ]
  },
  {
   "cell_type": "code",
   "execution_count": 195,
   "id": "66a978e4",
   "metadata": {},
   "outputs": [],
   "source": [
    "y_pred_km = km.predict(X)"
   ]
  },
  {
   "cell_type": "code",
   "execution_count": 196,
   "id": "a966519c",
   "metadata": {
    "scrolled": true
   },
   "outputs": [
    {
     "data": {
      "text/plain": [
       "array([3, 1, 4, 4, 0, 4, 4, 0, 4, 1, 3, 2, 2, 2, 2, 2, 3, 2, 4, 0, 2, 3,\n",
       "       1, 4, 0, 0, 4, 4, 2, 0, 3, 3, 2, 2, 4, 0, 2, 0, 3, 1, 3, 1, 2, 3,\n",
       "       1, 4, 1, 3, 3, 3, 1, 1, 0, 3, 0, 4, 2, 1, 0, 0, 4, 4, 2, 2, 2, 0,\n",
       "       4, 0, 2, 3, 2, 1, 4, 1, 0, 3, 2, 3, 4, 2, 3, 2, 0, 2, 1, 2, 2, 0,\n",
       "       0, 2, 0, 1, 3, 3, 2, 4, 3, 4, 4, 4, 0, 4, 1, 2, 0, 2, 3, 1, 0, 0,\n",
       "       3, 4, 2, 2, 3, 4, 3, 2, 1, 3, 4, 0, 0, 0, 3, 3, 4, 3, 0, 4, 4, 0,\n",
       "       2, 4, 1, 4, 1, 0, 0, 1, 0, 1, 4, 0, 3, 1, 2, 1, 2, 0, 1, 4, 0, 1,\n",
       "       3, 0, 2, 3, 3, 2, 4, 4, 4, 4, 3, 2, 1, 3, 3, 0, 0, 3, 3, 1, 4, 2,\n",
       "       4, 1, 1, 0, 0, 1, 3, 1, 0, 0, 1, 1, 0, 2, 3, 0, 3, 4, 2, 1, 4, 4,\n",
       "       0, 1, 2, 0, 0, 4, 2, 1, 2, 2, 2, 4, 0, 1, 0, 3, 1, 0, 3, 3, 1, 2,\n",
       "       4, 3, 2, 2, 3, 0, 2, 1, 1, 1, 2, 2, 1, 1, 1, 0, 2, 2, 1, 4, 3, 3,\n",
       "       0, 1, 3, 2, 3, 0, 0, 3, 2, 2, 4, 3, 2, 4, 1, 2, 0, 1, 1, 3, 3, 0,\n",
       "       4, 2, 1, 2, 2, 1, 1, 3, 1, 2, 2, 2, 3, 0, 1, 3, 1, 4, 2, 0, 3, 0,\n",
       "       3, 4, 2, 1, 4, 2, 1, 4, 1, 3, 0, 1, 3, 2], dtype=int32)"
      ]
     },
     "execution_count": 196,
     "metadata": {},
     "output_type": "execute_result"
    }
   ],
   "source": [
    "y_pred_km"
   ]
  },
  {
   "cell_type": "code",
   "execution_count": 197,
   "id": "d753d30a",
   "metadata": {},
   "outputs": [
    {
     "data": {
      "text/plain": [
       "<matplotlib.collections.PathCollection at 0x158a7bb20>"
      ]
     },
     "execution_count": 197,
     "metadata": {},
     "output_type": "execute_result"
    },
    {
     "data": {
      "image/png": "[encoded data removed]",
      "text/plain": [
       "<Figure size 432x288 with 1 Axes>"
      ]
     },
     "metadata": {
      "needs_background": "light"
     },
     "output_type": "display_data"
    }
   ],
   "source": [
    "plt.scatter(X[:,0], X[:,1], c=y_pred_km, cmap= plt.cm.coolwarm, edgecolor = 'k')"
   ]
  },
  {
   "cell_type": "code",
   "execution_count": 198,
   "id": "1c6ddb9e",
   "metadata": {},
   "outputs": [],
   "source": [
    "centroid = km.cluster_centers_"
   ]
  },
  {
   "cell_type": "code",
   "execution_count": 200,
   "id": "6892d879",
   "metadata": {},
   "outputs": [
    {
     "data": {
      "text/plain": [
       "array([[-0.18793117, -2.16830578],\n",
       "       [ 9.50257442,  3.77427211],\n",
       "       [ 4.21884369, -1.62183828],\n",
       "       [-5.39760796,  0.81624797],\n",
       "       [ 4.13964156, -4.64476656]])"
      ]
     },
     "execution_count": 200,
     "metadata": {},
     "output_type": "execute_result"
    }
   ],
   "source": [
    "centroid"
   ]
  },
  {
   "cell_type": "code",
   "execution_count": 201,
   "id": "253b4c9b",
   "metadata": {
    "scrolled": true
   },
   "outputs": [
    {
     "data": {
      "text/plain": [
       "<matplotlib.collections.PathCollection at 0x158861ca0>"
      ]
     },
     "execution_count": 201,
     "metadata": {},
     "output_type": "execute_result"
    },
    {
     "data": {
      "image/png": "[encoded data removed]",
      "text/plain": [
       "<Figure size 432x288 with 1 Axes>"
      ]
     },
     "metadata": {
      "needs_background": "light"
     },
     "output_type": "display_data"
    }
   ],
   "source": [
    "plt.scatter(X[:,0], X[:,1], c = y_pred_km, cmap = plt.cm.coolwarm)\n",
    "plt.scatter(centroid[:,0],centroid[:,1], c='black')"
   ]
  },
  {
   "cell_type": "code",
   "execution_count": 202,
   "id": "d7598a03",
   "metadata": {},
   "outputs": [],
   "source": [
    "km4 = KMeans(n_clusters =4 )"
   ]
  },
  {
   "cell_type": "code",
   "execution_count": 203,
   "id": "d0230af9",
   "metadata": {},
   "outputs": [
    {
     "data": {
      "text/plain": [
       "KMeans(n_clusters=4)"
      ]
     },
     "execution_count": 203,
     "metadata": {},
     "output_type": "execute_result"
    }
   ],
   "source": [
    "km4.fit(X)"
   ]
  },
  {
   "cell_type": "code",
   "execution_count": 204,
   "id": "9dfc4620",
   "metadata": {},
   "outputs": [],
   "source": [
    "y_pred_km4 = km4.predict(X)"
   ]
  },
  {
   "cell_type": "code",
   "execution_count": 205,
   "id": "7f675f1c",
   "metadata": {},
   "outputs": [],
   "source": [
    "centroids_km4 = km4.cluster_centers_"
   ]
  },
  {
   "cell_type": "code",
   "execution_count": 206,
   "id": "5431cb57",
   "metadata": {},
   "outputs": [
    {
     "data": {
      "text/plain": [
       "array([[ 9.50257442,  3.77427211],\n",
       "       [-0.18793117, -2.16830578],\n",
       "       [-5.39760796,  0.81624797],\n",
       "       [ 4.18386275, -2.95696494]])"
      ]
     },
     "execution_count": 206,
     "metadata": {},
     "output_type": "execute_result"
    }
   ],
   "source": [
    "centroids_km4"
   ]
  },
  {
   "cell_type": "code",
   "execution_count": 207,
   "id": "e6590a3b",
   "metadata": {},
   "outputs": [
    {
     "data": {
      "text/plain": [
       "array([[-0.18793117, -2.16830578],\n",
       "       [ 9.50257442,  3.77427211],\n",
       "       [ 4.21884369, -1.62183828],\n",
       "       [-5.39760796,  0.81624797],\n",
       "       [ 4.13964156, -4.64476656]])"
      ]
     },
     "execution_count": 207,
     "metadata": {},
     "output_type": "execute_result"
    }
   ],
   "source": [
    "centroid"
   ]
  },
  {
   "cell_type": "code",
   "execution_count": 208,
   "id": "94835c9e",
   "metadata": {},
   "outputs": [
    {
     "data": {
      "text/plain": [
       "<matplotlib.collections.PathCollection at 0x158ae8580>"
      ]
     },
     "execution_count": 208,
     "metadata": {},
     "output_type": "execute_result"
    },
    {
     "data": {
      "image/png": "[encoded data removed]",
      "text/plain": [
       "<Figure size 432x288 with 1 Axes>"
      ]
     },
     "metadata": {
      "needs_background": "light"
     },
     "output_type": "display_data"
    }
   ],
   "source": [
    "plt.scatter(X[:,0], X[:,1], c = y_pred_km4, cmap = plt.cm.coolwarm)\n",
    "plt.scatter(centroids_km4[:,0], centroids_km4[:,1], c='black')"
   ]
  },
  {
   "cell_type": "code",
   "execution_count": 209,
   "id": "7439b6ca",
   "metadata": {},
   "outputs": [],
   "source": [
    "km3 = KMeans(n_clusters = 3)"
   ]
  },
  {
   "cell_type": "code",
   "execution_count": 210,
   "id": "8250fb12",
   "metadata": {},
   "outputs": [
    {
     "data": {
      "text/plain": [
       "KMeans(n_clusters=3)"
      ]
     },
     "execution_count": 210,
     "metadata": {},
     "output_type": "execute_result"
    }
   ],
   "source": [
    "km3.fit(X)"
   ]
  },
  {
   "cell_type": "code",
   "execution_count": 211,
   "id": "9415bc46",
   "metadata": {},
   "outputs": [],
   "source": [
    "y_pred_km3 = km3.predict(X)"
   ]
  },
  {
   "cell_type": "code",
   "execution_count": 212,
   "id": "15043d38",
   "metadata": {},
   "outputs": [],
   "source": [
    "centroid_km3 = km3.cluster_centers_"
   ]
  },
  {
   "cell_type": "code",
   "execution_count": 213,
   "id": "544e770e",
   "metadata": {},
   "outputs": [
    {
     "data": {
      "text/plain": [
       "<matplotlib.collections.PathCollection at 0x158b44ee0>"
      ]
     },
     "execution_count": 213,
     "metadata": {},
     "output_type": "execute_result"
    },
    {
     "data": {
      "image/png": "[encoded data removed]",
      "text/plain": [
       "<Figure size 432x288 with 1 Axes>"
      ]
     },
     "metadata": {
      "needs_background": "light"
     },
     "output_type": "display_data"
    }
   ],
   "source": [
    "plt.scatter(X[:,0], X[:,1], c=y_pred_km3, cmap=plt.cm.coolwarm)\n",
    "plt.scatter(centroid_km3[:,0], centroid_km3[:,1], c='black')"
   ]
  },
  {
   "cell_type": "code",
   "execution_count": 214,
   "id": "0b85b650",
   "metadata": {},
   "outputs": [],
   "source": [
    "km6 = KMeans(n_clusters=6)"
   ]
  },
  {
   "cell_type": "code",
   "execution_count": 215,
   "id": "5bebd948",
   "metadata": {},
   "outputs": [
    {
     "data": {
      "text/plain": [
       "KMeans(n_clusters=6)"
      ]
     },
     "execution_count": 215,
     "metadata": {},
     "output_type": "execute_result"
    }
   ],
   "source": [
    "km6.fit(X)"
   ]
  },
  {
   "cell_type": "code",
   "execution_count": 216,
   "id": "6ad79384",
   "metadata": {},
   "outputs": [],
   "source": [
    "y_pred_km6 = km6.predict(X)"
   ]
  },
  {
   "cell_type": "code",
   "execution_count": 217,
   "id": "bf4bf967",
   "metadata": {},
   "outputs": [],
   "source": [
    "centroid_km6 = km6.cluster_centers_"
   ]
  },
  {
   "cell_type": "code",
   "execution_count": 218,
   "id": "b08e7bf7",
   "metadata": {},
   "outputs": [
    {
     "data": {
      "text/plain": [
       "<matplotlib.collections.PathCollection at 0x158bb2e50>"
      ]
     },
     "execution_count": 218,
     "metadata": {},
     "output_type": "execute_result"
    },
    {
     "data": {
      "image/png": "[encoded data removed]",
      "text/plain": [
       "<Figure size 432x288 with 1 Axes>"
      ]
     },
     "metadata": {
      "needs_background": "light"
     },
     "output_type": "display_data"
    }
   ],
   "source": [
    "plt.scatter(X[:,0],X[:,1], c=y_pred_km6, cmap = plt.cm.coolwarm)\n",
    "plt.scatter(centroid_km6[:,0], centroid_km6[:,1], c='black')"
   ]
  },
  {
   "cell_type": "code",
   "execution_count": 219,
   "id": "1b4c758f",
   "metadata": {},
   "outputs": [],
   "source": [
    "# un"
   ]
  },
  {
   "cell_type": "code",
   "execution_count": 220,
   "id": "1772545d",
   "metadata": {},
   "outputs": [],
   "source": [
    "index1 = y_pred_km == 1\n",
    "index3 = y_pred_km == 3"
   ]
  },
  {
   "cell_type": "code",
   "execution_count": 221,
   "id": "35daebe8",
   "metadata": {
    "scrolled": true
   },
   "outputs": [
    {
     "data": {
      "text/plain": [
       "array([False,  True, False, False, False, False, False, False, False,\n",
       "        True, False, False, False, False, False, False, False, False,\n",
       "       False, False, False, False,  True, False, False, False, False,\n",
       "       False, False, False, False, False, False, False, False, False,\n",
       "       False, False, False,  True, False,  True, False, False,  True,\n",
       "       False,  True, False, False, False,  True,  True, False, False,\n",
       "       False, False, False,  True, False, False, False, False, False,\n",
       "       False, False, False, False, False, False, False, False,  True,\n",
       "       False,  True, False, False, False, False, False, False, False,\n",
       "       False, False, False,  True, False, False, False, False, False,\n",
       "       False,  True, False, False, False, False, False, False, False,\n",
       "       False, False, False,  True, False, False, False, False,  True,\n",
       "       False, False, False, False, False, False, False, False, False,\n",
       "       False,  True, False, False, False, False, False, False, False,\n",
       "       False, False, False, False, False, False, False, False,  True,\n",
       "       False,  True, False, False,  True, False,  True, False, False,\n",
       "       False,  True, False,  True, False, False,  True, False, False,\n",
       "        True, False, False, False, False, False, False, False, False,\n",
       "       False, False, False, False,  True, False, False, False, False,\n",
       "       False, False,  True, False, False, False,  True,  True, False,\n",
       "       False,  True, False,  True, False, False,  True,  True, False,\n",
       "       False, False, False, False, False, False,  True, False, False,\n",
       "       False,  True, False, False, False, False, False,  True, False,\n",
       "       False, False, False, False,  True, False, False,  True, False,\n",
       "       False, False,  True, False, False, False, False, False, False,\n",
       "       False, False,  True,  True,  True, False, False,  True,  True,\n",
       "        True, False, False, False,  True, False, False, False, False,\n",
       "        True, False, False, False, False, False, False, False, False,\n",
       "       False, False, False, False,  True, False, False,  True,  True,\n",
       "       False, False, False, False, False,  True, False, False,  True,\n",
       "        True, False,  True, False, False, False, False, False,  True,\n",
       "       False,  True, False, False, False, False, False, False, False,\n",
       "       False,  True, False, False,  True, False,  True, False, False,\n",
       "        True, False, False])"
      ]
     },
     "execution_count": 221,
     "metadata": {},
     "output_type": "execute_result"
    }
   ],
   "source": [
    "index1"
   ]
  },
  {
   "cell_type": "code",
   "execution_count": 233,
   "id": "cd6a6099",
   "metadata": {},
   "outputs": [],
   "source": [
    "y_pred_km[index1] = 3 \n",
    "y_pred_km[index3] = 1"
   ]
  },
  {
   "cell_type": "code",
   "execution_count": 234,
   "id": "da677f65",
   "metadata": {},
   "outputs": [
    {
     "data": {
      "text/plain": [
       "array([1, 3, 4, 4, 0, 4, 4, 0, 4, 3, 1, 3, 3, 3, 3, 3, 1, 3, 4, 0, 3, 1,\n",
       "       3, 4, 0, 0, 4, 4, 3, 0, 1, 1, 3, 3, 4, 0, 3, 0, 1, 3, 1, 3, 3, 1,\n",
       "       3, 4, 3, 1, 1, 1, 3, 3, 0, 1, 0, 4, 3, 3, 0, 0, 4, 4, 3, 3, 3, 0,\n",
       "       4, 0, 3, 1, 3, 3, 4, 3, 0, 1, 3, 1, 4, 3, 1, 3, 0, 3, 3, 3, 3, 0,\n",
       "       0, 3, 0, 3, 1, 1, 3, 4, 1, 4, 4, 4, 0, 4, 3, 3, 0, 3, 1, 3, 0, 0,\n",
       "       1, 4, 3, 3, 1, 4, 1, 3, 3, 1, 4, 0, 0, 0, 1, 1, 4, 1, 0, 4, 4, 0,\n",
       "       3, 4, 3, 4, 3, 0, 0, 3, 0, 3, 4, 0, 1, 3, 3, 3, 3, 0, 3, 4, 0, 3,\n",
       "       1, 0, 3, 1, 1, 3, 4, 4, 4, 4, 1, 3, 3, 1, 1, 0, 0, 1, 1, 3, 4, 3,\n",
       "       4, 3, 3, 0, 0, 3, 1, 3, 0, 0, 3, 3, 0, 3, 1, 0, 1, 4, 3, 3, 4, 4,\n",
       "       0, 3, 3, 0, 0, 4, 3, 3, 3, 3, 3, 4, 0, 3, 0, 1, 3, 0, 1, 1, 3, 3,\n",
       "       4, 1, 3, 3, 1, 0, 3, 3, 3, 3, 3, 3, 3, 3, 3, 0, 3, 3, 3, 4, 1, 1,\n",
       "       0, 3, 1, 3, 1, 0, 0, 1, 3, 3, 4, 1, 3, 4, 3, 3, 0, 3, 3, 1, 1, 0,\n",
       "       4, 3, 3, 3, 3, 3, 3, 1, 3, 3, 3, 3, 1, 0, 3, 1, 3, 4, 3, 0, 1, 0,\n",
       "       1, 4, 3, 3, 4, 3, 3, 4, 3, 1, 0, 3, 1, 3], dtype=int32)"
      ]
     },
     "execution_count": 234,
     "metadata": {},
     "output_type": "execute_result"
    }
   ],
   "source": [
    "y_pred_km\n"
   ]
  },
  {
   "cell_type": "code",
   "execution_count": 235,
   "id": "eec539d1",
   "metadata": {},
   "outputs": [
    {
     "data": {
      "text/plain": [
       "array([ 0,  0, -4, -4,  4, -4, -4,  4, -4,  0,  0, -1, -1, -1, -1, -1,  0,\n",
       "       -3, -4,  4, -1,  0,  0, -4,  4,  4, -4, -4, -1,  4,  0,  0, -1, -1,\n",
       "       -4,  4, -1,  4,  0,  0,  0,  0,  1,  0,  0, -4,  0,  0,  0,  0,  0,\n",
       "        0,  4,  0,  4, -4, -1,  0,  4,  4, -4, -4, -3, -1, -1,  4, -4,  4,\n",
       "       -1,  0, -3,  0, -4,  0,  4,  0, -1,  0, -4, -1,  0, -1,  4, -1,  0,\n",
       "       -1, -1,  4,  4, -1,  4,  0,  0,  0, -3, -4,  0, -4, -4, -4,  4, -4,\n",
       "        0, -1,  4, -1,  0,  0,  4,  4,  0, -4, -1, -1,  0, -4,  0, -1,  0,\n",
       "        0, -2,  4,  4,  4,  0,  0, -4,  0,  4, -4, -4,  4, -1, -4,  0, -4,\n",
       "        0,  4,  4,  0,  4,  0, -4,  4,  0,  0, -1,  0, -1,  4,  0, -4,  0,\n",
       "        0,  0,  4, -3,  0,  0, -1, -4, -4, -4, -4,  0, -3,  0,  0,  0,  4,\n",
       "        4,  0,  0,  0, -4, -1, -4,  0,  0,  4,  4,  0,  0,  0,  4,  4,  0,\n",
       "        0,  4, -1,  0,  4,  0, -4, -1,  0, -4, -4,  4,  0, -1,  4,  4, -4,\n",
       "       -1,  0, -1, -3, -1, -4,  4,  0,  4,  0,  0,  4,  0,  0,  0, -1, -4,\n",
       "        0, -1, -1,  0,  4, -1,  0,  0,  0, -1, -1,  0,  0,  0,  4, -1, -1,\n",
       "        0, -4,  0,  0,  4,  0,  0, -1,  0,  4,  4,  0, -1, -1, -4,  0, -1,\n",
       "       -4,  0, -1,  4,  0,  0,  0,  0,  4, -4, -1,  0, -1, -1,  0,  0,  0,\n",
       "        0, -1, -1, -1,  0,  4,  0,  0,  0, -4, -1,  4,  0,  4,  0, -4, -1,\n",
       "        0, -4, -1,  0, -4,  0,  0,  4,  0,  0, -3])"
      ]
     },
     "execution_count": 235,
     "metadata": {},
     "output_type": "execute_result"
    }
   ],
   "source": [
    "y-y_pred_km"
   ]
  },
  {
   "cell_type": "code",
   "execution_count": 236,
   "id": "9e22eb38",
   "metadata": {},
   "outputs": [
    {
     "data": {
      "text/plain": [
       "179"
      ]
     },
     "execution_count": 236,
     "metadata": {},
     "output_type": "execute_result"
    }
   ],
   "source": [
    "sum((y-y_pred_km)!=0)"
   ]
  },
  {
   "cell_type": "code",
   "execution_count": 237,
   "id": "1cf3cf3c",
   "metadata": {
    "scrolled": true
   },
   "outputs": [
    {
     "data": {
      "text/plain": [
       "array([1, 3, 0, 0, 4, 0, 0, 4, 0, 3, 1, 2, 2, 2, 2, 2, 1, 0, 0, 4, 2, 1,\n",
       "       3, 0, 4, 4, 0, 0, 2, 4, 1, 1, 2, 2, 0, 4, 2, 4, 1, 3, 1, 3, 4, 1,\n",
       "       3, 0, 3, 1, 1, 1, 3, 3, 4, 1, 4, 0, 2, 3, 4, 4, 0, 0, 0, 2, 2, 4,\n",
       "       0, 4, 2, 1, 0, 3, 0, 3, 4, 1, 2, 1, 0, 2, 1, 2, 4, 2, 3, 2, 2, 4,\n",
       "       4, 2, 4, 3, 1, 1, 0, 0, 1, 0, 0, 0, 4, 0, 3, 2, 4, 2, 1, 3, 4, 4,\n",
       "       1, 0, 2, 2, 1, 0, 1, 2, 3, 1, 2, 4, 4, 4, 1, 1, 0, 1, 4, 0, 0, 4,\n",
       "       2, 0, 3, 0, 3, 4, 4, 3, 4, 3, 0, 4, 1, 3, 2, 3, 2, 4, 3, 0, 0, 3,\n",
       "       1, 4, 0, 1, 1, 2, 0, 0, 0, 0, 1, 0, 3, 1, 1, 4, 4, 1, 1, 3, 0, 2,\n",
       "       0, 3, 3, 4, 4, 3, 1, 3, 4, 4, 3, 3, 4, 2, 1, 4, 1, 0, 2, 3, 0, 0,\n",
       "       4, 3, 2, 4, 4, 0, 2, 3, 2, 0, 2, 0, 4, 3, 4, 1, 3, 4, 1, 1, 3, 2,\n",
       "       0, 1, 2, 2, 1, 4, 2, 3, 3, 3, 2, 2, 3, 3, 3, 4, 2, 2, 3, 0, 1, 1,\n",
       "       4, 3, 1, 2, 1, 4, 4, 1, 2, 2, 0, 1, 2, 0, 3, 2, 4, 3, 3, 1, 1, 4,\n",
       "       0, 2, 3, 2, 2, 3, 3, 1, 3, 2, 2, 2, 1, 4, 3, 1, 3, 0, 2, 4, 1, 4,\n",
       "       1, 0, 2, 3, 0, 2, 3, 0, 3, 1, 4, 3, 1, 0])"
      ]
     },
     "execution_count": 237,
     "metadata": {},
     "output_type": "execute_result"
    }
   ],
   "source": [
    "y"
   ]
  },
  {
   "cell_type": "code",
   "execution_count": 239,
   "id": "e9ff00b0",
   "metadata": {
    "scrolled": false
   },
   "outputs": [
    {
     "data": {
      "text/plain": [
       "array([ 0,  0, -4, -4,  4, -4, -4,  4, -4,  0,  0, -1, -1, -1, -1, -1,  0,\n",
       "       -3, -4,  4, -1,  0,  0, -4,  4,  4, -4, -4, -1,  4,  0,  0, -1, -1,\n",
       "       -4,  4, -1,  4,  0,  0,  0,  0,  1,  0,  0, -4,  0,  0,  0,  0,  0,\n",
       "        0,  4,  0,  4, -4, -1,  0,  4,  4, -4, -4, -3, -1, -1,  4, -4,  4,\n",
       "       -1,  0, -3,  0, -4,  0,  4,  0, -1,  0, -4, -1,  0, -1,  4, -1,  0,\n",
       "       -1, -1,  4,  4, -1,  4,  0,  0,  0, -3, -4,  0, -4, -4, -4,  4, -4,\n",
       "        0, -1,  4, -1,  0,  0,  4,  4,  0, -4, -1, -1,  0, -4,  0, -1,  0,\n",
       "        0, -2,  4,  4,  4,  0,  0, -4,  0,  4, -4, -4,  4, -1, -4,  0, -4,\n",
       "        0,  4,  4,  0,  4,  0, -4,  4,  0,  0, -1,  0, -1,  4,  0, -4,  0,\n",
       "        0,  0,  4, -3,  0,  0, -1, -4, -4, -4, -4,  0, -3,  0,  0,  0,  4,\n",
       "        4,  0,  0,  0, -4, -1, -4,  0,  0,  4,  4,  0,  0,  0,  4,  4,  0,\n",
       "        0,  4, -1,  0,  4,  0, -4, -1,  0, -4, -4,  4,  0, -1,  4,  4, -4,\n",
       "       -1,  0, -1, -3, -1, -4,  4,  0,  4,  0,  0,  4,  0,  0,  0, -1, -4,\n",
       "        0, -1, -1,  0,  4, -1,  0,  0,  0, -1, -1,  0,  0,  0,  4, -1, -1,\n",
       "        0, -4,  0,  0,  4,  0,  0, -1,  0,  4,  4,  0, -1, -1, -4,  0, -1,\n",
       "       -4,  0, -1,  4,  0,  0,  0,  0,  4, -4, -1,  0, -1, -1,  0,  0,  0,\n",
       "        0, -1, -1, -1,  0,  4,  0,  0,  0, -4, -1,  4,  0,  4,  0, -4, -1,\n",
       "        0, -4, -1,  0, -4,  0,  0,  4,  0,  0, -3])"
      ]
     },
     "execution_count": 239,
     "metadata": {},
     "output_type": "execute_result"
    }
   ],
   "source": [
    "y - y_pred_km"
   ]
  },
  {
   "cell_type": "code",
   "execution_count": 240,
   "id": "ae2f6370",
   "metadata": {
    "scrolled": true
   },
   "outputs": [
    {
     "data": {
      "text/plain": [
       "array([1, 3, 4, 4, 0, 4, 4, 0, 4, 3, 1, 3, 3, 3, 3, 3, 1, 3, 4, 0, 3, 1,\n",
       "       3, 4, 0, 0, 4, 4, 3, 0, 1, 1, 3, 3, 4, 0, 3, 0, 1, 3, 1, 3, 3, 1,\n",
       "       3, 4, 3, 1, 1, 1, 3, 3, 0, 1, 0, 4, 3, 3, 0, 0, 4, 4, 3, 3, 3, 0,\n",
       "       4, 0, 3, 1, 3, 3, 4, 3, 0, 1, 3, 1, 4, 3, 1, 3, 0, 3, 3, 3, 3, 0,\n",
       "       0, 3, 0, 3, 1, 1, 3, 4, 1, 4, 4, 4, 0, 4, 3, 3, 0, 3, 1, 3, 0, 0,\n",
       "       1, 4, 3, 3, 1, 4, 1, 3, 3, 1, 4, 0, 0, 0, 1, 1, 4, 1, 0, 4, 4, 0,\n",
       "       3, 4, 3, 4, 3, 0, 0, 3, 0, 3, 4, 0, 1, 3, 3, 3, 3, 0, 3, 4, 0, 3,\n",
       "       1, 0, 3, 1, 1, 3, 4, 4, 4, 4, 1, 3, 3, 1, 1, 0, 0, 1, 1, 3, 4, 3,\n",
       "       4, 3, 3, 0, 0, 3, 1, 3, 0, 0, 3, 3, 0, 3, 1, 0, 1, 4, 3, 3, 4, 4,\n",
       "       0, 3, 3, 0, 0, 4, 3, 3, 3, 3, 3, 4, 0, 3, 0, 1, 3, 0, 1, 1, 3, 3,\n",
       "       4, 1, 3, 3, 1, 0, 3, 3, 3, 3, 3, 3, 3, 3, 3, 0, 3, 3, 3, 4, 1, 1,\n",
       "       0, 3, 1, 3, 1, 0, 0, 1, 3, 3, 4, 1, 3, 4, 3, 3, 0, 3, 3, 1, 1, 0,\n",
       "       4, 3, 3, 3, 3, 3, 3, 1, 3, 3, 3, 3, 1, 0, 3, 1, 3, 4, 3, 0, 1, 0,\n",
       "       1, 4, 3, 3, 4, 3, 3, 4, 3, 1, 0, 3, 1, 3], dtype=int32)"
      ]
     },
     "execution_count": 240,
     "metadata": {},
     "output_type": "execute_result"
    }
   ],
   "source": [
    "y_pred_km"
   ]
  },
  {
   "cell_type": "code",
   "execution_count": 241,
   "id": "2eadd9ed",
   "metadata": {},
   "outputs": [],
   "source": [
    "index2 = y_pred_km == 2\n",
    "index3 = y_pred_km == 3"
   ]
  },
  {
   "cell_type": "code",
   "execution_count": 242,
   "id": "67e2cb3b",
   "metadata": {},
   "outputs": [],
   "source": [
    "y_pred_km[index2]=3\n",
    "y_pred_km[index3]=2"
   ]
  },
  {
   "cell_type": "code",
   "execution_count": 243,
   "id": "6811cfb5",
   "metadata": {},
   "outputs": [
    {
     "data": {
      "text/plain": [
       "array([1, 2, 4, 4, 0, 4, 4, 0, 4, 2, 1, 2, 2, 2, 2, 2, 1, 2, 4, 0, 2, 1,\n",
       "       2, 4, 0, 0, 4, 4, 2, 0, 1, 1, 2, 2, 4, 0, 2, 0, 1, 2, 1, 2, 2, 1,\n",
       "       2, 4, 2, 1, 1, 1, 2, 2, 0, 1, 0, 4, 2, 2, 0, 0, 4, 4, 2, 2, 2, 0,\n",
       "       4, 0, 2, 1, 2, 2, 4, 2, 0, 1, 2, 1, 4, 2, 1, 2, 0, 2, 2, 2, 2, 0,\n",
       "       0, 2, 0, 2, 1, 1, 2, 4, 1, 4, 4, 4, 0, 4, 2, 2, 0, 2, 1, 2, 0, 0,\n",
       "       1, 4, 2, 2, 1, 4, 1, 2, 2, 1, 4, 0, 0, 0, 1, 1, 4, 1, 0, 4, 4, 0,\n",
       "       2, 4, 2, 4, 2, 0, 0, 2, 0, 2, 4, 0, 1, 2, 2, 2, 2, 0, 2, 4, 0, 2,\n",
       "       1, 0, 2, 1, 1, 2, 4, 4, 4, 4, 1, 2, 2, 1, 1, 0, 0, 1, 1, 2, 4, 2,\n",
       "       4, 2, 2, 0, 0, 2, 1, 2, 0, 0, 2, 2, 0, 2, 1, 0, 1, 4, 2, 2, 4, 4,\n",
       "       0, 2, 2, 0, 0, 4, 2, 2, 2, 2, 2, 4, 0, 2, 0, 1, 2, 0, 1, 1, 2, 2,\n",
       "       4, 1, 2, 2, 1, 0, 2, 2, 2, 2, 2, 2, 2, 2, 2, 0, 2, 2, 2, 4, 1, 1,\n",
       "       0, 2, 1, 2, 1, 0, 0, 1, 2, 2, 4, 1, 2, 4, 2, 2, 0, 2, 2, 1, 1, 0,\n",
       "       4, 2, 2, 2, 2, 2, 2, 1, 2, 2, 2, 2, 1, 0, 2, 1, 2, 4, 2, 0, 1, 0,\n",
       "       1, 4, 2, 2, 4, 2, 2, 4, 2, 1, 0, 2, 1, 2], dtype=int32)"
      ]
     },
     "execution_count": 243,
     "metadata": {},
     "output_type": "execute_result"
    }
   ],
   "source": [
    "y_pred_km"
   ]
  },
  {
   "cell_type": "code",
   "execution_count": 244,
   "id": "523d58b7",
   "metadata": {
    "scrolled": true
   },
   "outputs": [
    {
     "data": {
      "text/plain": [
       "array([ 0,  1, -4, -4,  4, -4, -4,  4, -4,  1,  0,  0,  0,  0,  0,  0,  0,\n",
       "       -2, -4,  4,  0,  0,  1, -4,  4,  4, -4, -4,  0,  4,  0,  0,  0,  0,\n",
       "       -4,  4,  0,  4,  0,  1,  0,  1,  2,  0,  1, -4,  1,  0,  0,  0,  1,\n",
       "        1,  4,  0,  4, -4,  0,  1,  4,  4, -4, -4, -2,  0,  0,  4, -4,  4,\n",
       "        0,  0, -2,  1, -4,  1,  4,  0,  0,  0, -4,  0,  0,  0,  4,  0,  1,\n",
       "        0,  0,  4,  4,  0,  4,  1,  0,  0, -2, -4,  0, -4, -4, -4,  4, -4,\n",
       "        1,  0,  4,  0,  0,  1,  4,  4,  0, -4,  0,  0,  0, -4,  0,  0,  1,\n",
       "        0, -2,  4,  4,  4,  0,  0, -4,  0,  4, -4, -4,  4,  0, -4,  1, -4,\n",
       "        1,  4,  4,  1,  4,  1, -4,  4,  0,  1,  0,  1,  0,  4,  1, -4,  0,\n",
       "        1,  0,  4, -2,  0,  0,  0, -4, -4, -4, -4,  0, -2,  1,  0,  0,  4,\n",
       "        4,  0,  0,  1, -4,  0, -4,  1,  1,  4,  4,  1,  0,  1,  4,  4,  1,\n",
       "        1,  4,  0,  0,  4,  0, -4,  0,  1, -4, -4,  4,  1,  0,  4,  4, -4,\n",
       "        0,  1,  0, -2,  0, -4,  4,  1,  4,  0,  1,  4,  0,  0,  1,  0, -4,\n",
       "        0,  0,  0,  0,  4,  0,  1,  1,  1,  0,  0,  1,  1,  1,  4,  0,  0,\n",
       "        1, -4,  0,  0,  4,  1,  0,  0,  0,  4,  4,  0,  0,  0, -4,  0,  0,\n",
       "       -4,  1,  0,  4,  1,  1,  0,  0,  4, -4,  0,  1,  0,  0,  1,  1,  0,\n",
       "        1,  0,  0,  0,  0,  4,  1,  0,  1, -4,  0,  4,  0,  4,  0, -4,  0,\n",
       "        1, -4,  0,  1, -4,  1,  0,  4,  1,  0, -2])"
      ]
     },
     "execution_count": 244,
     "metadata": {},
     "output_type": "execute_result"
    }
   ],
   "source": [
    "y-y_pred_km"
   ]
  },
  {
   "cell_type": "code",
   "execution_count": 246,
   "id": "fc5ab085",
   "metadata": {},
   "outputs": [
    {
     "data": {
      "text/plain": [
       "246"
      ]
     },
     "execution_count": 246,
     "metadata": {},
     "output_type": "execute_result"
    }
   ],
   "source": [
    "sum(y-y_pred_km6!=0)"
   ]
  },
  {
   "cell_type": "code",
   "execution_count": 250,
   "id": "8b88e84b",
   "metadata": {},
   "outputs": [
    {
     "data": {
      "text/plain": [
       "array([ 0, -1,  4,  4, -4,  4,  4, -4,  4, -1,  0,  0,  0,  0,  0,  0,  0,\n",
       "        2,  4, -4,  0,  0, -1,  4, -4, -4,  4,  4,  0, -4,  0,  0,  0,  0,\n",
       "        4, -4,  0, -4,  0, -1,  0, -1, -2,  0, -1,  4, -1,  0,  0,  0, -1,\n",
       "       -1, -4,  0, -4,  4,  0, -1, -4, -4,  4,  4,  2,  0,  0, -4,  4, -4,\n",
       "        0,  0,  2, -1,  4, -1, -4,  0,  0,  0,  4,  0,  0,  0, -4,  0, -1,\n",
       "        0,  0, -4, -4,  0, -4, -1,  0,  0,  2,  4,  0,  4,  4,  4, -4,  4,\n",
       "       -1,  0, -4,  0,  0, -1, -4, -4,  0,  4,  0,  0,  0,  4,  0,  0, -1,\n",
       "        0,  2, -4, -4, -4,  0,  0,  4,  0, -4,  4,  4, -4,  0,  4, -1,  4,\n",
       "       -1, -4, -4, -1, -4, -1,  4, -4,  0, -1,  0, -1,  0, -4, -1,  4,  0,\n",
       "       -1,  0, -4,  2,  0,  0,  0,  4,  4,  4,  4,  0,  2, -1,  0,  0, -4,\n",
       "       -4,  0,  0, -1,  4,  0,  4, -1, -1, -4, -4, -1,  0, -1, -4, -4, -1,\n",
       "       -1, -4,  0,  0, -4,  0,  4,  0, -1,  4,  4, -4, -1,  0, -4, -4,  4,\n",
       "        0, -1,  0,  2,  0,  4, -4, -1, -4,  0, -1, -4,  0,  0, -1,  0,  4,\n",
       "        0,  0,  0,  0, -4,  0, -1, -1, -1,  0,  0, -1, -1, -1, -4,  0,  0,\n",
       "       -1,  4,  0,  0, -4, -1,  0,  0,  0, -4, -4,  0,  0,  0,  4,  0,  0,\n",
       "        4, -1,  0, -4, -1, -1,  0,  0, -4,  4,  0, -1,  0,  0, -1, -1,  0,\n",
       "       -1,  0,  0,  0,  0, -4, -1,  0, -1,  4,  0, -4,  0, -4,  0,  4,  0,\n",
       "       -1,  4,  0, -1,  4, -1,  0, -4, -1,  0,  2])"
      ]
     },
     "execution_count": 250,
     "metadata": {},
     "output_type": "execute_result"
    }
   ],
   "source": [
    "y_pred_km-y"
   ]
  },
  {
   "cell_type": "code",
   "execution_count": null,
   "id": "440d1b9e",
   "metadata": {},
   "outputs": [],
   "source": []
  },
  {
   "cell_type": "code",
   "execution_count": null,
   "id": "bd454a6f",
   "metadata": {},
   "outputs": [],
   "source": []
  },
  {
   "cell_type": "code",
   "execution_count": null,
   "id": "bebe43ee",
   "metadata": {},
   "outputs": [],
   "source": []
  },
  {
   "cell_type": "code",
   "execution_count": null,
   "id": "6bf8dee2",
   "metadata": {},
   "outputs": [],
   "source": []
  },
  {
   "cell_type": "code",
   "execution_count": null,
   "id": "0ba2f1b0",
   "metadata": {},
   "outputs": [],
   "source": []
  },
  {
   "cell_type": "code",
   "execution_count": null,
   "id": "86fab0bc",
   "metadata": {},
   "outputs": [],
   "source": []
  },
  {
   "cell_type": "code",
   "execution_count": null,
   "id": "12accd84",
   "metadata": {},
   "outputs": [],
   "source": []
  },
  {
   "cell_type": "code",
   "execution_count": null,
   "id": "33b206c8",
   "metadata": {},
   "outputs": [],
   "source": []
  },
  {
   "cell_type": "code",
   "execution_count": null,
   "id": "ab6ecd23",
   "metadata": {},
   "outputs": [],
   "source": []
  }
 ],
 "metadata": {
  "kernelspec": {
   "display_name": "Python 3 (ipykernel)",
   "language": "python",
   "name": "python3"
  },
  "language_info": {
   "codemirror_mode": {
    "name": "ipython",
    "version": 3
   },
   "file_extension": ".py",
   "mimetype": "text/x-python",
   "name": "python",
   "nbconvert_exporter": "python",
   "pygments_lexer": "ipython3",
   "version": "3.9.7"
  }
 },
 "nbformat": 4,
 "nbformat_minor": 5
}

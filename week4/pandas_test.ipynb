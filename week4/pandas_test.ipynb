{
 "cells": [
  {
   "cell_type": "code",
   "execution_count": 43,
   "metadata": {},
   "outputs": [],
   "source": [
    "import numpy as np\n",
    "import pandas as pd\n"
   ]
  },
  {
   "cell_type": "code",
   "execution_count": 44,
   "metadata": {},
   "outputs": [
    {
     "name": "stdout",
     "output_type": "stream",
     "text": [
      "['BooleanDtype', 'Categorical', 'CategoricalDtype', 'CategoricalIndex', 'DataFrame', 'DateOffset', 'DatetimeIndex', 'DatetimeTZDtype', 'ExcelFile', 'ExcelWriter', 'Flags', 'Float32Dtype', 'Float64Dtype', 'Float64Index', 'Grouper', 'HDFStore', 'Index', 'IndexSlice', 'Int16Dtype', 'Int32Dtype', 'Int64Dtype', 'Int64Index', 'Int8Dtype', 'Interval', 'IntervalDtype', 'IntervalIndex', 'MultiIndex', 'NA', 'NaT', 'NamedAgg', 'Period', 'PeriodDtype', 'PeriodIndex', 'RangeIndex', 'Series', 'SparseDtype', 'StringDtype', 'Timedelta', 'TimedeltaIndex', 'Timestamp', 'UInt16Dtype', 'UInt32Dtype', 'UInt64Dtype', 'UInt64Index', 'UInt8Dtype', '__builtins__', '__cached__', '__doc__', '__docformat__', '__file__', '__getattr__', '__git_version__', '__loader__', '__name__', '__package__', '__path__', '__spec__', '__version__', '_config', '_hashtable', '_is_numpy_dev', '_lib', '_libs', '_np_version_under1p18', '_testing', '_tslib', '_typing', '_version', 'api', 'array', 'arrays', 'bdate_range', 'compat', 'concat', 'core', 'crosstab', 'cut', 'date_range', 'describe_option', 'errors', 'eval', 'factorize', 'get_dummies', 'get_option', 'infer_freq', 'interval_range', 'io', 'isna', 'isnull', 'json_normalize', 'lreshape', 'melt', 'merge', 'merge_asof', 'merge_ordered', 'notna', 'notnull', 'offsets', 'option_context', 'options', 'pandas', 'period_range', 'pivot', 'pivot_table', 'plotting', 'qcut', 'read_clipboard', 'read_csv', 'read_excel', 'read_feather', 'read_fwf', 'read_gbq', 'read_hdf', 'read_html', 'read_json', 'read_orc', 'read_parquet', 'read_pickle', 'read_sas', 'read_spss', 'read_sql', 'read_sql_query', 'read_sql_table', 'read_stata', 'read_table', 'read_xml', 'reset_option', 'set_eng_float_format', 'set_option', 'show_versions', 'test', 'testing', 'timedelta_range', 'to_datetime', 'to_numeric', 'to_pickle', 'to_timedelta', 'tseries', 'unique', 'util', 'value_counts', 'wide_to_long']\n",
      "0    tiger\n",
      "1     bear\n",
      "2    eagle\n",
      "3     lion\n",
      "dtype: object\n"
     ]
    }
   ],
   "source": [
    "print(dir(pd))\n",
    "\t\n",
    "animal = [\"tiger\", \"bear\", \"eagle\", \"lion\"]\n",
    "print(pd.Series(animal))"
   ]
  },
  {
   "cell_type": "code",
   "execution_count": 45,
   "metadata": {},
   "outputs": [
    {
     "name": "stdout",
     "output_type": "stream",
     "text": [
      "0    1.0\n",
      "1    2.0\n",
      "2    3.0\n",
      "3    4.0\n",
      "4    5.0\n",
      "5    6.0\n",
      "6    NaN\n",
      "dtype: float64\n"
     ]
    }
   ],
   "source": [
    "numbers = [1, 2,3,4,5,6, None]\n",
    "print(pd.Series(numbers))\n",
    "\n",
    "# NaN is used as a marker for missing data instead of None for computational speed and convenience\n",
    "\n",
    "capitals = {\"Korea\" : \"Seoul\", \"Japan\": \"Tokyo\", \"China\":\"Beijing\", \"USA\":\"DC\"}"
   ]
  },
  {
   "cell_type": "code",
   "execution_count": 46,
   "metadata": {},
   "outputs": [
    {
     "name": "stdout",
     "output_type": "stream",
     "text": [
      "Index(['Korea', 'Japan', 'China', 'USA'], dtype='object')\n",
      "['Seoul' 'Tokyo' 'Beijing' 'DC']\n"
     ]
    }
   ],
   "source": [
    "\n",
    "\n",
    "s = pd.Series(capitals)\n",
    "\n",
    "\n",
    "print(s.index)\n",
    "\n",
    "\n",
    "print(s.values)\n",
    "\n"
   ]
  },
  {
   "cell_type": "code",
   "execution_count": 47,
   "metadata": {},
   "outputs": [],
   "source": [
    "\n",
    "countries = [\"Austria\", \"Belgium\", \"Canada\", \"Cuba\"]\n",
    "\n",
    "cities = [\"Vienna\", \"Brussels\", \"Ottawa\", \"ABNA\"]\n",
    "\n",
    "t = pd.Series(cities, index = countries)"
   ]
  },
  {
   "cell_type": "code",
   "execution_count": 48,
   "metadata": {},
   "outputs": [
    {
     "name": "stdout",
     "output_type": "stream",
     "text": [
      "Austria      Vienna\n",
      "Belgium    Brussels\n",
      "Canada       Ottawa\n",
      "Cuba           ABNA\n",
      "dtype: object\n",
      "Vienna\n",
      "Vienna\n"
     ]
    }
   ],
   "source": [
    "print(t)\n",
    "\n",
    "\n",
    "print(t.loc[\"Austria\"])\n",
    "print(t.iloc[0])\n"
   ]
  },
  {
   "cell_type": "code",
   "execution_count": 49,
   "metadata": {},
   "outputs": [
    {
     "name": "stdout",
     "output_type": "stream",
     "text": [
      "0    1\n",
      "1    2\n",
      "2    3\n",
      "3    4\n",
      "4    5\n",
      "5    6\n",
      "dtype: int64\n",
      "1\n",
      "21\n"
     ]
    }
   ],
   "source": [
    "v = pd.Series([1,2,3,4,5,6], index=[0,1,2,3,4,5])\n",
    "\n",
    "\n",
    "print(v)\n",
    "print(v[0])\n",
    "\n",
    "\n",
    "total = 0\n",
    "for i in range(6):\n",
    "\ttotal+= v[i]\n",
    "\n",
    "print(total)"
   ]
  },
  {
   "cell_type": "code",
   "execution_count": 50,
   "metadata": {},
   "outputs": [
    {
     "name": "stdout",
     "output_type": "stream",
     "text": [
      "0    1\n",
      "1    2\n",
      "2    3\n",
      "3    4\n",
      "4    5\n",
      "5    6\n",
      "dtype: int64\n",
      "1\n",
      "21\n"
     ]
    }
   ],
   "source": [
    "v = pd.Series([1,2,3,4,5,6], index=[0,1,2,3,4,5])\n",
    "\n",
    "\n",
    "print(v)\n",
    "print(v[0])\n",
    "total = 0\n",
    "for i in range(6):\n",
    "\ttotal+= v[i]\n",
    "\n",
    "print(total)"
   ]
  },
  {
   "cell_type": "code",
   "execution_count": 51,
   "metadata": {},
   "outputs": [
    {
     "name": "stdout",
     "output_type": "stream",
     "text": [
      "0       721\n",
      "1        38\n",
      "2        96\n",
      "3       583\n",
      "4       202\n",
      "       ... \n",
      "9995    919\n",
      "9996    189\n",
      "9997    254\n",
      "9998    543\n",
      "9999      0\n",
      "Length: 10000, dtype: int64\n",
      "0    721\n",
      "1     38\n",
      "2     96\n",
      "3    583\n",
      "4    202\n",
      "dtype: int64\n",
      "\n",
      "9995    919\n",
      "9996    189\n",
      "9997    254\n",
      "9998    543\n",
      "9999      0\n",
      "dtype: int64\n"
     ]
    }
   ],
   "source": [
    "w = pd.Series(np.random.randint(0,1000,10000)) # this creates a big Series of random integer \n",
    "print(w)\n",
    "\t\n",
    "print(w.head())\n",
    "\n",
    "print()\n",
    "print(w.tail())\n",
    "\n",
    "\n"
   ]
  },
  {
   "cell_type": "code",
   "execution_count": 52,
   "metadata": {},
   "outputs": [
    {
     "name": "stdout",
     "output_type": "stream",
     "text": [
      "631 µs ± 29.9 µs per loop (mean ± std. dev. of 7 runs, 100 loops each)\n"
     ]
    }
   ],
   "source": [
    "%%timeit -n 100\n",
    "total = 0 \n",
    "for item in w:\n",
    "    total += item\n",
    "\n",
    "# print(total)"
   ]
  },
  {
   "cell_type": "code",
   "execution_count": 53,
   "metadata": {},
   "outputs": [
    {
     "name": "stdout",
     "output_type": "stream",
     "text": [
      "23.2 µs ± 3.12 µs per loop (mean ± std. dev. of 7 runs, 100 loops each)\n"
     ]
    }
   ],
   "source": [
    "%%timeit -n 100\n",
    "total = np.sum(w)"
   ]
  },
  {
   "cell_type": "code",
   "execution_count": 54,
   "metadata": {},
   "outputs": [
    {
     "name": "stdout",
     "output_type": "stream",
     "text": [
      "0    721\n",
      "1     38\n",
      "2     96\n",
      "3    583\n",
      "4    202\n",
      "dtype: int64\n"
     ]
    }
   ],
   "source": [
    "print(w.head())"
   ]
  },
  {
   "cell_type": "code",
   "execution_count": 55,
   "metadata": {},
   "outputs": [
    {
     "name": "stdout",
     "output_type": "stream",
     "text": [
      "0    731\n",
      "1     48\n",
      "2    106\n",
      "3    593\n",
      "4    212\n",
      "dtype: int64\n"
     ]
    }
   ],
   "source": [
    "for label, value in w.iteritems():\n",
    "    w[label] += 10\n",
    "\n",
    "print(w.head())\n"
   ]
  },
  {
   "cell_type": "code",
   "execution_count": 56,
   "metadata": {},
   "outputs": [
    {
     "name": "stdout",
     "output_type": "stream",
     "text": [
      "18.8 ms ± 205 µs per loop (mean ± std. dev. of 7 runs, 10 loops each)\n"
     ]
    }
   ],
   "source": [
    "%%timeit -n 10\n",
    "for label, value in w.iteritems():\n",
    "    w[label] = value + 10\n"
   ]
  },
  {
   "cell_type": "code",
   "execution_count": 57,
   "metadata": {},
   "outputs": [
    {
     "name": "stdout",
     "output_type": "stream",
     "text": [
      "126 µs ± 76 µs per loop (mean ± std. dev. of 7 runs, 10 loops each)\n"
     ]
    }
   ],
   "source": [
    "%%timeit -n 10\n",
    "w = pd.Series(np.random.randint(0,1000,10000))\n",
    "w += 10"
   ]
  },
  {
   "cell_type": "code",
   "execution_count": 58,
   "metadata": {},
   "outputs": [
    {
     "name": "stdout",
     "output_type": "stream",
     "text": [
      "Korea      Seoul\n",
      "Japan      Tokyo\n",
      "China    Beijing\n",
      "USA           DC\n",
      "dtype: object\n"
     ]
    }
   ],
   "source": [
    "print(s)"
   ]
  },
  {
   "cell_type": "code",
   "execution_count": 59,
   "metadata": {},
   "outputs": [],
   "source": [
    "s[\"Egypt\"] = \"Kairo\"\n"
   ]
  },
  {
   "cell_type": "code",
   "execution_count": 60,
   "metadata": {},
   "outputs": [
    {
     "name": "stdout",
     "output_type": "stream",
     "text": [
      "Austria      Vienna\n",
      "Belgium    Brussels\n",
      "Canada       Ottawa\n",
      "Cuba           ABNA\n",
      "dtype: object\n"
     ]
    }
   ],
   "source": [
    "print(t)"
   ]
  },
  {
   "cell_type": "code",
   "execution_count": 61,
   "metadata": {},
   "outputs": [],
   "source": [
    "s = s.append(t)"
   ]
  },
  {
   "cell_type": "code",
   "execution_count": 62,
   "metadata": {},
   "outputs": [
    {
     "name": "stdout",
     "output_type": "stream",
     "text": [
      "Korea         Seoul\n",
      "Japan         Tokyo\n",
      "China       Beijing\n",
      "USA              DC\n",
      "Egypt         Kairo\n",
      "Austria      Vienna\n",
      "Belgium    Brussels\n",
      "Canada       Ottawa\n",
      "Cuba           ABNA\n",
      "dtype: object\n"
     ]
    }
   ],
   "source": [
    "print(s)"
   ]
  },
  {
   "cell_type": "code",
   "execution_count": 63,
   "metadata": {},
   "outputs": [
    {
     "name": "stdout",
     "output_type": "stream",
     "text": [
      "Korea         Seoul\n",
      "Japan         Tokyo\n",
      "China       Beijing\n",
      "Egypt         Kairo\n",
      "Austria      Vienna\n",
      "Belgium    Brussels\n",
      "Canada       Ottawa\n",
      "Cuba           ABNA\n",
      "dtype: object\n"
     ]
    }
   ],
   "source": [
    "print(s.drop(\"USA\"))"
   ]
  },
  {
   "cell_type": "code",
   "execution_count": 64,
   "metadata": {},
   "outputs": [
    {
     "name": "stdout",
     "output_type": "stream",
     "text": [
      "Korea         Seoul\n",
      "Japan         Tokyo\n",
      "China       Beijing\n",
      "USA              DC\n",
      "Egypt         Kairo\n",
      "Austria      Vienna\n",
      "Belgium    Brussels\n",
      "Canada       Ottawa\n",
      "Cuba           ABNA\n",
      "dtype: object\n"
     ]
    }
   ],
   "source": [
    "print(s)"
   ]
  },
  {
   "cell_type": "code",
   "execution_count": 66,
   "metadata": {},
   "outputs": [
    {
     "data": {
      "text/plain": [
       "Korea      Seoul\n",
       "Canada    Ottawa\n",
       "Egypt      Kairo\n",
       "Mexico       NaN\n",
       "dtype: object"
      ]
     },
     "execution_count": 66,
     "metadata": {},
     "output_type": "execute_result"
    }
   ],
   "source": [
    "x = pd.Series(s, index=[\"Korea\", \"Canada\",\"Egypt\", \"Mexico\" ])\n",
    "x"
   ]
  },
  {
   "cell_type": "code",
   "execution_count": null,
   "metadata": {},
   "outputs": [],
   "source": [
    "# DataFrame\n",
    "# Creating DataFrame"
   ]
  },
  {
   "cell_type": "code",
   "execution_count": 68,
   "metadata": {},
   "outputs": [],
   "source": [
    "punchase_1 = pd.Series({\"name\" : 'David', \"item Purchase\" : \"TV\", \"Cost\" : 1000})\n",
    "punchase_2 = pd.Series({\"name\" : 'Jane', \"item Purchase\" : \"Laptop\", \"Cost\" : 1500})\n",
    "punchase_3 = pd.Series({\"name\" : 'Kevin', \"item Purchase\" : \"Car\", \"Cost\" : 20000})\n"
   ]
  },
  {
   "cell_type": "code",
   "execution_count": null,
   "metadata": {},
   "outputs": [],
   "source": [
    "df = pd.DataFrame([punchase_1, punchase_2, punchase_3], index=['Store 1', 'Store 2', 'Store 3'])"
   ]
  }
 ],
 "metadata": {
  "kernelspec": {
   "display_name": "base",
   "language": "python",
   "name": "python3"
  },
  "language_info": {
   "codemirror_mode": {
    "name": "ipython",
    "version": 3
   },
   "file_extension": ".py",
   "mimetype": "text/x-python",
   "name": "python",
   "nbconvert_exporter": "python",
   "pygments_lexer": "ipython3",
   "version": "3.9.7"
  },
  "orig_nbformat": 4
 },
 "nbformat": 4,
 "nbformat_minor": 2
}

{
 "cells": [
  {
   "cell_type": "code",
   "execution_count": 1267,
   "id": "0e868211",
   "metadata": {},
   "outputs": [],
   "source": [
    "import numpy as np\n",
    "import pandas as pd\n",
    "from sklearn import datasets\n",
    "import matplotlib.pyplot as plt"
   ]
  },
  {
   "cell_type": "code",
   "execution_count": 1268,
   "id": "b0632dbe",
   "metadata": {},
   "outputs": [
    {
     "data": {
      "text/plain": [
       "['__all__',\n",
       " '__builtins__',\n",
       " '__cached__',\n",
       " '__doc__',\n",
       " '__file__',\n",
       " '__loader__',\n",
       " '__name__',\n",
       " '__package__',\n",
       " '__path__',\n",
       " '__spec__',\n",
       " '_base',\n",
       " '_california_housing',\n",
       " '_covtype',\n",
       " '_kddcup99',\n",
       " '_lfw',\n",
       " '_olivetti_faces',\n",
       " '_openml',\n",
       " '_rcv1',\n",
       " '_samples_generator',\n",
       " '_species_distributions',\n",
       " '_svmlight_format_fast',\n",
       " '_svmlight_format_io',\n",
       " '_twenty_newsgroups',\n",
       " 'clear_data_home',\n",
       " 'data',\n",
       " 'descr',\n",
       " 'dump_svmlight_file',\n",
       " 'fetch_20newsgroups',\n",
       " 'fetch_20newsgroups_vectorized',\n",
       " 'fetch_california_housing',\n",
       " 'fetch_covtype',\n",
       " 'fetch_kddcup99',\n",
       " 'fetch_lfw_pairs',\n",
       " 'fetch_lfw_people',\n",
       " 'fetch_olivetti_faces',\n",
       " 'fetch_openml',\n",
       " 'fetch_rcv1',\n",
       " 'fetch_species_distributions',\n",
       " 'get_data_home',\n",
       " 'load_boston',\n",
       " 'load_breast_cancer',\n",
       " 'load_diabetes',\n",
       " 'load_digits',\n",
       " 'load_files',\n",
       " 'load_iris',\n",
       " 'load_linnerud',\n",
       " 'load_sample_image',\n",
       " 'load_sample_images',\n",
       " 'load_svmlight_file',\n",
       " 'load_svmlight_files',\n",
       " 'load_wine',\n",
       " 'make_biclusters',\n",
       " 'make_blobs',\n",
       " 'make_checkerboard',\n",
       " 'make_circles',\n",
       " 'make_classification',\n",
       " 'make_friedman1',\n",
       " 'make_friedman2',\n",
       " 'make_friedman3',\n",
       " 'make_gaussian_quantiles',\n",
       " 'make_hastie_10_2',\n",
       " 'make_low_rank_matrix',\n",
       " 'make_moons',\n",
       " 'make_multilabel_classification',\n",
       " 'make_regression',\n",
       " 'make_s_curve',\n",
       " 'make_sparse_coded_signal',\n",
       " 'make_sparse_spd_matrix',\n",
       " 'make_sparse_uncorrelated',\n",
       " 'make_spd_matrix',\n",
       " 'make_swiss_roll']"
      ]
     },
     "execution_count": 1268,
     "metadata": {},
     "output_type": "execute_result"
    }
   ],
   "source": [
    "dir(datasets)"
   ]
  },
  {
   "cell_type": "code",
   "execution_count": 1269,
   "id": "05892144",
   "metadata": {},
   "outputs": [
    {
     "name": "stderr",
     "output_type": "stream",
     "text": [
      "/opt/homebrew/Caskroom/miniforge/base/lib/python3.9/site-packages/sklearn/utils/deprecation.py:87: FutureWarning: Function load_boston is deprecated; `load_boston` is deprecated in 1.0 and will be removed in 1.2.\n",
      "\n",
      "    The Boston housing prices dataset has an ethical problem. You can refer to\n",
      "    the documentation of this function for further details.\n",
      "\n",
      "    The scikit-learn maintainers therefore strongly discourage the use of this\n",
      "    dataset unless the purpose of the code is to study and educate about\n",
      "    ethical issues in data science and machine learning.\n",
      "\n",
      "    In this special case, you can fetch the dataset from the original\n",
      "    source::\n",
      "\n",
      "        import pandas as pd\n",
      "        import numpy as np\n",
      "\n",
      "\n",
      "        data_url = \"http://lib.stat.cmu.edu/datasets/boston\"\n",
      "        raw_df = pd.read_csv(data_url, sep=\"\\s+\", skiprows=22, header=None)\n",
      "        data = np.hstack([raw_df.values[::2, :], raw_df.values[1::2, :2]])\n",
      "        target = raw_df.values[1::2, 2]\n",
      "\n",
      "    Alternative datasets include the California housing dataset (i.e.\n",
      "    :func:`~sklearn.datasets.fetch_california_housing`) and the Ames housing\n",
      "    dataset. You can load the datasets as follows::\n",
      "\n",
      "        from sklearn.datasets import fetch_california_housing\n",
      "        housing = fetch_california_housing()\n",
      "\n",
      "    for the California housing dataset and::\n",
      "\n",
      "        from sklearn.datasets import fetch_openml\n",
      "        housing = fetch_openml(name=\"house_prices\", as_frame=True)\n",
      "\n",
      "    for the Ames housing dataset.\n",
      "    \n",
      "  warnings.warn(msg, category=FutureWarning)\n"
     ]
    }
   ],
   "source": [
    "boston = datasets.load_boston()"
   ]
  },
  {
   "cell_type": "code",
   "execution_count": null,
   "id": "828e89c1",
   "metadata": {},
   "outputs": [],
   "source": []
  },
  {
   "cell_type": "code",
   "execution_count": 1270,
   "id": "b0f342fa",
   "metadata": {},
   "outputs": [
    {
     "name": "stdout",
     "output_type": "stream",
     "text": [
      ".. _boston_dataset:\n",
      "\n",
      "Boston house prices dataset\n",
      "---------------------------\n",
      "\n",
      "**Data Set Characteristics:**  \n",
      "\n",
      "    :Number of Instances: 506 \n",
      "\n",
      "    :Number of Attributes: 13 numeric/categorical predictive. Median Value (attribute 14) is usually the target.\n",
      "\n",
      "    :Attribute Information (in order):\n",
      "        - CRIM     per capita crime rate by town\n",
      "        - ZN       proportion of residential land zoned for lots over 25,000 sq.ft.\n",
      "        - INDUS    proportion of non-retail business acres per town\n",
      "        - CHAS     Charles River dummy variable (= 1 if tract bounds river; 0 otherwise)\n",
      "        - NOX      nitric oxides concentration (parts per 10 million)\n",
      "        - RM       average number of rooms per dwelling\n",
      "        - AGE      proportion of owner-occupied units built prior to 1940\n",
      "        - DIS      weighted distances to five Boston employment centres\n",
      "        - RAD      index of accessibility to radial highways\n",
      "        - TAX      full-value property-tax rate per $10,000\n",
      "        - PTRATIO  pupil-teacher ratio by town\n",
      "        - B        1000(Bk - 0.63)^2 where Bk is the proportion of black people by town\n",
      "        - LSTAT    % lower status of the population\n",
      "        - MEDV     Median value of owner-occupied homes in $1000's\n",
      "\n",
      "    :Missing Attribute Values: None\n",
      "\n",
      "    :Creator: Harrison, D. and Rubinfeld, D.L.\n",
      "\n",
      "This is a copy of UCI ML housing dataset.\n",
      "https://archive.ics.uci.edu/ml/machine-learning-databases/housing/\n",
      "\n",
      "\n",
      "This dataset was taken from the StatLib library which is maintained at Carnegie Mellon University.\n",
      "\n",
      "The Boston house-price data of Harrison, D. and Rubinfeld, D.L. 'Hedonic\n",
      "prices and the demand for clean air', J. Environ. Economics & Management,\n",
      "vol.5, 81-102, 1978.   Used in Belsley, Kuh & Welsch, 'Regression diagnostics\n",
      "...', Wiley, 1980.   N.B. Various transformations are used in the table on\n",
      "pages 244-261 of the latter.\n",
      "\n",
      "The Boston house-price data has been used in many machine learning papers that address regression\n",
      "problems.   \n",
      "     \n",
      ".. topic:: References\n",
      "\n",
      "   - Belsley, Kuh & Welsch, 'Regression diagnostics: Identifying Influential Data and Sources of Collinearity', Wiley, 1980. 244-261.\n",
      "   - Quinlan,R. (1993). Combining Instance-Based and Model-Based Learning. In Proceedings on the Tenth International Conference of Machine Learning, 236-243, University of Massachusetts, Amherst. Morgan Kaufmann.\n",
      "\n"
     ]
    }
   ],
   "source": [
    "print(boston.DESCR)"
   ]
  },
  {
   "cell_type": "code",
   "execution_count": 1271,
   "id": "67d36e8e",
   "metadata": {},
   "outputs": [],
   "source": [
    "boston_df = pd.DataFrame(boston.data, columns = boston.feature_names)"
   ]
  },
  {
   "cell_type": "code",
   "execution_count": 1272,
   "id": "9b363500",
   "metadata": {},
   "outputs": [
    {
     "data": {
      "text/html": [
       "<div>\n",
       "<style scoped>\n",
       "    .dataframe tbody tr th:only-of-type {\n",
       "        vertical-align: middle;\n",
       "    }\n",
       "\n",
       "    .dataframe tbody tr th {\n",
       "        vertical-align: top;\n",
       "    }\n",
       "\n",
       "    .dataframe thead th {\n",
       "        text-align: right;\n",
       "    }\n",
       "</style>\n",
       "<table border=\"1\" class=\"dataframe\">\n",
       "  <thead>\n",
       "    <tr style=\"text-align: right;\">\n",
       "      <th></th>\n",
       "      <th>CRIM</th>\n",
       "      <th>ZN</th>\n",
       "      <th>INDUS</th>\n",
       "      <th>CHAS</th>\n",
       "      <th>NOX</th>\n",
       "      <th>RM</th>\n",
       "      <th>AGE</th>\n",
       "      <th>DIS</th>\n",
       "      <th>RAD</th>\n",
       "      <th>TAX</th>\n",
       "      <th>PTRATIO</th>\n",
       "      <th>B</th>\n",
       "      <th>LSTAT</th>\n",
       "    </tr>\n",
       "  </thead>\n",
       "  <tbody>\n",
       "    <tr>\n",
       "      <th>0</th>\n",
       "      <td>0.00632</td>\n",
       "      <td>18.0</td>\n",
       "      <td>2.31</td>\n",
       "      <td>0.0</td>\n",
       "      <td>0.538</td>\n",
       "      <td>6.575</td>\n",
       "      <td>65.2</td>\n",
       "      <td>4.0900</td>\n",
       "      <td>1.0</td>\n",
       "      <td>296.0</td>\n",
       "      <td>15.3</td>\n",
       "      <td>396.90</td>\n",
       "      <td>4.98</td>\n",
       "    </tr>\n",
       "    <tr>\n",
       "      <th>1</th>\n",
       "      <td>0.02731</td>\n",
       "      <td>0.0</td>\n",
       "      <td>7.07</td>\n",
       "      <td>0.0</td>\n",
       "      <td>0.469</td>\n",
       "      <td>6.421</td>\n",
       "      <td>78.9</td>\n",
       "      <td>4.9671</td>\n",
       "      <td>2.0</td>\n",
       "      <td>242.0</td>\n",
       "      <td>17.8</td>\n",
       "      <td>396.90</td>\n",
       "      <td>9.14</td>\n",
       "    </tr>\n",
       "    <tr>\n",
       "      <th>2</th>\n",
       "      <td>0.02729</td>\n",
       "      <td>0.0</td>\n",
       "      <td>7.07</td>\n",
       "      <td>0.0</td>\n",
       "      <td>0.469</td>\n",
       "      <td>7.185</td>\n",
       "      <td>61.1</td>\n",
       "      <td>4.9671</td>\n",
       "      <td>2.0</td>\n",
       "      <td>242.0</td>\n",
       "      <td>17.8</td>\n",
       "      <td>392.83</td>\n",
       "      <td>4.03</td>\n",
       "    </tr>\n",
       "    <tr>\n",
       "      <th>3</th>\n",
       "      <td>0.03237</td>\n",
       "      <td>0.0</td>\n",
       "      <td>2.18</td>\n",
       "      <td>0.0</td>\n",
       "      <td>0.458</td>\n",
       "      <td>6.998</td>\n",
       "      <td>45.8</td>\n",
       "      <td>6.0622</td>\n",
       "      <td>3.0</td>\n",
       "      <td>222.0</td>\n",
       "      <td>18.7</td>\n",
       "      <td>394.63</td>\n",
       "      <td>2.94</td>\n",
       "    </tr>\n",
       "    <tr>\n",
       "      <th>4</th>\n",
       "      <td>0.06905</td>\n",
       "      <td>0.0</td>\n",
       "      <td>2.18</td>\n",
       "      <td>0.0</td>\n",
       "      <td>0.458</td>\n",
       "      <td>7.147</td>\n",
       "      <td>54.2</td>\n",
       "      <td>6.0622</td>\n",
       "      <td>3.0</td>\n",
       "      <td>222.0</td>\n",
       "      <td>18.7</td>\n",
       "      <td>396.90</td>\n",
       "      <td>5.33</td>\n",
       "    </tr>\n",
       "  </tbody>\n",
       "</table>\n",
       "</div>"
      ],
      "text/plain": [
       "      CRIM    ZN  INDUS  CHAS    NOX     RM   AGE     DIS  RAD    TAX  \\\n",
       "0  0.00632  18.0   2.31   0.0  0.538  6.575  65.2  4.0900  1.0  296.0   \n",
       "1  0.02731   0.0   7.07   0.0  0.469  6.421  78.9  4.9671  2.0  242.0   \n",
       "2  0.02729   0.0   7.07   0.0  0.469  7.185  61.1  4.9671  2.0  242.0   \n",
       "3  0.03237   0.0   2.18   0.0  0.458  6.998  45.8  6.0622  3.0  222.0   \n",
       "4  0.06905   0.0   2.18   0.0  0.458  7.147  54.2  6.0622  3.0  222.0   \n",
       "\n",
       "   PTRATIO       B  LSTAT  \n",
       "0     15.3  396.90   4.98  \n",
       "1     17.8  396.90   9.14  \n",
       "2     17.8  392.83   4.03  \n",
       "3     18.7  394.63   2.94  \n",
       "4     18.7  396.90   5.33  "
      ]
     },
     "execution_count": 1272,
     "metadata": {},
     "output_type": "execute_result"
    }
   ],
   "source": [
    "boston_df.head()"
   ]
  },
  {
   "cell_type": "code",
   "execution_count": 1273,
   "id": "046224bc",
   "metadata": {},
   "outputs": [
    {
     "data": {
      "text/html": [
       "<div>\n",
       "<style scoped>\n",
       "    .dataframe tbody tr th:only-of-type {\n",
       "        vertical-align: middle;\n",
       "    }\n",
       "\n",
       "    .dataframe tbody tr th {\n",
       "        vertical-align: top;\n",
       "    }\n",
       "\n",
       "    .dataframe thead th {\n",
       "        text-align: right;\n",
       "    }\n",
       "</style>\n",
       "<table border=\"1\" class=\"dataframe\">\n",
       "  <thead>\n",
       "    <tr style=\"text-align: right;\">\n",
       "      <th></th>\n",
       "      <th>CRIM</th>\n",
       "      <th>ZN</th>\n",
       "      <th>INDUS</th>\n",
       "      <th>CHAS</th>\n",
       "      <th>NOX</th>\n",
       "      <th>RM</th>\n",
       "      <th>AGE</th>\n",
       "      <th>DIS</th>\n",
       "      <th>RAD</th>\n",
       "      <th>TAX</th>\n",
       "      <th>PTRATIO</th>\n",
       "      <th>B</th>\n",
       "      <th>LSTAT</th>\n",
       "    </tr>\n",
       "  </thead>\n",
       "  <tbody>\n",
       "    <tr>\n",
       "      <th>count</th>\n",
       "      <td>506.000000</td>\n",
       "      <td>506.000000</td>\n",
       "      <td>506.000000</td>\n",
       "      <td>506.000000</td>\n",
       "      <td>506.000000</td>\n",
       "      <td>506.000000</td>\n",
       "      <td>506.000000</td>\n",
       "      <td>506.000000</td>\n",
       "      <td>506.000000</td>\n",
       "      <td>506.000000</td>\n",
       "      <td>506.000000</td>\n",
       "      <td>506.000000</td>\n",
       "      <td>506.000000</td>\n",
       "    </tr>\n",
       "    <tr>\n",
       "      <th>mean</th>\n",
       "      <td>3.613524</td>\n",
       "      <td>11.363636</td>\n",
       "      <td>11.136779</td>\n",
       "      <td>0.069170</td>\n",
       "      <td>0.554695</td>\n",
       "      <td>6.284634</td>\n",
       "      <td>68.574901</td>\n",
       "      <td>3.795043</td>\n",
       "      <td>9.549407</td>\n",
       "      <td>408.237154</td>\n",
       "      <td>18.455534</td>\n",
       "      <td>356.674032</td>\n",
       "      <td>12.653063</td>\n",
       "    </tr>\n",
       "    <tr>\n",
       "      <th>std</th>\n",
       "      <td>8.601545</td>\n",
       "      <td>23.322453</td>\n",
       "      <td>6.860353</td>\n",
       "      <td>0.253994</td>\n",
       "      <td>0.115878</td>\n",
       "      <td>0.702617</td>\n",
       "      <td>28.148861</td>\n",
       "      <td>2.105710</td>\n",
       "      <td>8.707259</td>\n",
       "      <td>168.537116</td>\n",
       "      <td>2.164946</td>\n",
       "      <td>91.294864</td>\n",
       "      <td>7.141062</td>\n",
       "    </tr>\n",
       "    <tr>\n",
       "      <th>min</th>\n",
       "      <td>0.006320</td>\n",
       "      <td>0.000000</td>\n",
       "      <td>0.460000</td>\n",
       "      <td>0.000000</td>\n",
       "      <td>0.385000</td>\n",
       "      <td>3.561000</td>\n",
       "      <td>2.900000</td>\n",
       "      <td>1.129600</td>\n",
       "      <td>1.000000</td>\n",
       "      <td>187.000000</td>\n",
       "      <td>12.600000</td>\n",
       "      <td>0.320000</td>\n",
       "      <td>1.730000</td>\n",
       "    </tr>\n",
       "    <tr>\n",
       "      <th>25%</th>\n",
       "      <td>0.082045</td>\n",
       "      <td>0.000000</td>\n",
       "      <td>5.190000</td>\n",
       "      <td>0.000000</td>\n",
       "      <td>0.449000</td>\n",
       "      <td>5.885500</td>\n",
       "      <td>45.025000</td>\n",
       "      <td>2.100175</td>\n",
       "      <td>4.000000</td>\n",
       "      <td>279.000000</td>\n",
       "      <td>17.400000</td>\n",
       "      <td>375.377500</td>\n",
       "      <td>6.950000</td>\n",
       "    </tr>\n",
       "    <tr>\n",
       "      <th>50%</th>\n",
       "      <td>0.256510</td>\n",
       "      <td>0.000000</td>\n",
       "      <td>9.690000</td>\n",
       "      <td>0.000000</td>\n",
       "      <td>0.538000</td>\n",
       "      <td>6.208500</td>\n",
       "      <td>77.500000</td>\n",
       "      <td>3.207450</td>\n",
       "      <td>5.000000</td>\n",
       "      <td>330.000000</td>\n",
       "      <td>19.050000</td>\n",
       "      <td>391.440000</td>\n",
       "      <td>11.360000</td>\n",
       "    </tr>\n",
       "    <tr>\n",
       "      <th>75%</th>\n",
       "      <td>3.677083</td>\n",
       "      <td>12.500000</td>\n",
       "      <td>18.100000</td>\n",
       "      <td>0.000000</td>\n",
       "      <td>0.624000</td>\n",
       "      <td>6.623500</td>\n",
       "      <td>94.075000</td>\n",
       "      <td>5.188425</td>\n",
       "      <td>24.000000</td>\n",
       "      <td>666.000000</td>\n",
       "      <td>20.200000</td>\n",
       "      <td>396.225000</td>\n",
       "      <td>16.955000</td>\n",
       "    </tr>\n",
       "    <tr>\n",
       "      <th>max</th>\n",
       "      <td>88.976200</td>\n",
       "      <td>100.000000</td>\n",
       "      <td>27.740000</td>\n",
       "      <td>1.000000</td>\n",
       "      <td>0.871000</td>\n",
       "      <td>8.780000</td>\n",
       "      <td>100.000000</td>\n",
       "      <td>12.126500</td>\n",
       "      <td>24.000000</td>\n",
       "      <td>711.000000</td>\n",
       "      <td>22.000000</td>\n",
       "      <td>396.900000</td>\n",
       "      <td>37.970000</td>\n",
       "    </tr>\n",
       "  </tbody>\n",
       "</table>\n",
       "</div>"
      ],
      "text/plain": [
       "             CRIM          ZN       INDUS        CHAS         NOX          RM  \\\n",
       "count  506.000000  506.000000  506.000000  506.000000  506.000000  506.000000   \n",
       "mean     3.613524   11.363636   11.136779    0.069170    0.554695    6.284634   \n",
       "std      8.601545   23.322453    6.860353    0.253994    0.115878    0.702617   \n",
       "min      0.006320    0.000000    0.460000    0.000000    0.385000    3.561000   \n",
       "25%      0.082045    0.000000    5.190000    0.000000    0.449000    5.885500   \n",
       "50%      0.256510    0.000000    9.690000    0.000000    0.538000    6.208500   \n",
       "75%      3.677083   12.500000   18.100000    0.000000    0.624000    6.623500   \n",
       "max     88.976200  100.000000   27.740000    1.000000    0.871000    8.780000   \n",
       "\n",
       "              AGE         DIS         RAD         TAX     PTRATIO           B  \\\n",
       "count  506.000000  506.000000  506.000000  506.000000  506.000000  506.000000   \n",
       "mean    68.574901    3.795043    9.549407  408.237154   18.455534  356.674032   \n",
       "std     28.148861    2.105710    8.707259  168.537116    2.164946   91.294864   \n",
       "min      2.900000    1.129600    1.000000  187.000000   12.600000    0.320000   \n",
       "25%     45.025000    2.100175    4.000000  279.000000   17.400000  375.377500   \n",
       "50%     77.500000    3.207450    5.000000  330.000000   19.050000  391.440000   \n",
       "75%     94.075000    5.188425   24.000000  666.000000   20.200000  396.225000   \n",
       "max    100.000000   12.126500   24.000000  711.000000   22.000000  396.900000   \n",
       "\n",
       "            LSTAT  \n",
       "count  506.000000  \n",
       "mean    12.653063  \n",
       "std      7.141062  \n",
       "min      1.730000  \n",
       "25%      6.950000  \n",
       "50%     11.360000  \n",
       "75%     16.955000  \n",
       "max     37.970000  "
      ]
     },
     "execution_count": 1273,
     "metadata": {},
     "output_type": "execute_result"
    }
   ],
   "source": [
    "boston_df.describe()"
   ]
  },
  {
   "cell_type": "code",
   "execution_count": 1274,
   "id": "c31952dd",
   "metadata": {},
   "outputs": [
    {
     "data": {
      "text/plain": [
       "CRIM       0\n",
       "ZN         0\n",
       "INDUS      0\n",
       "CHAS       0\n",
       "NOX        0\n",
       "RM         0\n",
       "AGE        0\n",
       "DIS        0\n",
       "RAD        0\n",
       "TAX        0\n",
       "PTRATIO    0\n",
       "B          0\n",
       "LSTAT      0\n",
       "dtype: int64"
      ]
     },
     "execution_count": 1274,
     "metadata": {},
     "output_type": "execute_result"
    }
   ],
   "source": [
    "boston_df.isnull().sum()"
   ]
  },
  {
   "cell_type": "code",
   "execution_count": 1275,
   "id": "d9144814",
   "metadata": {},
   "outputs": [],
   "source": [
    "from sklearn.model_selection import train_test_split\n",
    "from sklearn.linear_model import LinearRegression\n",
    "from sklearn.metrics import mean_squared_error, r2_score"
   ]
  },
  {
   "cell_type": "code",
   "execution_count": 1276,
   "id": "6231b67d",
   "metadata": {},
   "outputs": [],
   "source": [
    "X = boston_df"
   ]
  },
  {
   "cell_type": "code",
   "execution_count": 1277,
   "id": "0503e81c",
   "metadata": {},
   "outputs": [],
   "source": [
    "# target\n",
    "y = pd.Series(boston.target)"
   ]
  },
  {
   "cell_type": "code",
   "execution_count": 1278,
   "id": "9d3ec740",
   "metadata": {},
   "outputs": [
    {
     "data": {
      "text/plain": [
       "0    24.0\n",
       "1    21.6\n",
       "2    34.7\n",
       "3    33.4\n",
       "4    36.2\n",
       "dtype: float64"
      ]
     },
     "execution_count": 1278,
     "metadata": {},
     "output_type": "execute_result"
    }
   ],
   "source": [
    "y.head()"
   ]
  },
  {
   "cell_type": "code",
   "execution_count": 1279,
   "id": "4fe9d3de",
   "metadata": {},
   "outputs": [],
   "source": [
    "x_train, x_test, y_train, y_test = train_test_split(X,y, train_size = 0.7)"
   ]
  },
  {
   "cell_type": "code",
   "execution_count": 1280,
   "id": "f6ee45ea",
   "metadata": {},
   "outputs": [],
   "source": [
    "lr = LinearRegression()"
   ]
  },
  {
   "cell_type": "code",
   "execution_count": 1281,
   "id": "d0160a48",
   "metadata": {},
   "outputs": [
    {
     "data": {
      "text/plain": [
       "LinearRegression()"
      ]
     },
     "execution_count": 1281,
     "metadata": {},
     "output_type": "execute_result"
    }
   ],
   "source": [
    "lr.fit(x_train, y_train)"
   ]
  },
  {
   "cell_type": "code",
   "execution_count": 1282,
   "id": "4af47c5e",
   "metadata": {},
   "outputs": [
    {
     "data": {
      "text/plain": [
       "32.73267516574006"
      ]
     },
     "execution_count": 1282,
     "metadata": {},
     "output_type": "execute_result"
    }
   ],
   "source": [
    "lr.intercept_"
   ]
  },
  {
   "cell_type": "code",
   "execution_count": 1283,
   "id": "bc197d85",
   "metadata": {},
   "outputs": [
    {
     "data": {
      "text/plain": [
       "array([-4.10863600e-02,  5.34206305e-02,  3.27406292e-02,  1.19611826e+00,\n",
       "       -1.78929235e+01,  4.25316774e+00, -8.34580729e-03, -1.67326202e+00,\n",
       "        2.56467025e-01, -1.28083492e-02, -8.88191226e-01,  1.17704641e-02,\n",
       "       -4.85452305e-01])"
      ]
     },
     "execution_count": 1283,
     "metadata": {},
     "output_type": "execute_result"
    }
   ],
   "source": [
    "lr.coef_"
   ]
  },
  {
   "cell_type": "code",
   "execution_count": 1284,
   "id": "676dec40",
   "metadata": {},
   "outputs": [],
   "source": [
    "coef = pd.Series(lr.coef_, index = boston.feature_names)"
   ]
  },
  {
   "cell_type": "code",
   "execution_count": 1285,
   "id": "72ec44aa",
   "metadata": {},
   "outputs": [
    {
     "data": {
      "text/plain": [
       "CRIM       -0.041086\n",
       "ZN          0.053421\n",
       "INDUS       0.032741\n",
       "CHAS        1.196118\n",
       "NOX       -17.892924\n",
       "RM          4.253168\n",
       "AGE        -0.008346\n",
       "DIS        -1.673262\n",
       "RAD         0.256467\n",
       "TAX        -0.012808\n",
       "PTRATIO    -0.888191\n",
       "B           0.011770\n",
       "LSTAT      -0.485452\n",
       "dtype: float64"
      ]
     },
     "execution_count": 1285,
     "metadata": {},
     "output_type": "execute_result"
    }
   ],
   "source": [
    "coef"
   ]
  },
  {
   "cell_type": "code",
   "execution_count": 1286,
   "id": "5769f60b",
   "metadata": {},
   "outputs": [],
   "source": [
    "# predict & validate "
   ]
  },
  {
   "cell_type": "code",
   "execution_count": 1287,
   "id": "870f6c53",
   "metadata": {},
   "outputs": [],
   "source": [
    "y_pred = lr.predict(x_test)"
   ]
  },
  {
   "cell_type": "code",
   "execution_count": 1288,
   "id": "0064c78a",
   "metadata": {},
   "outputs": [
    {
     "data": {
      "text/plain": [
       "array([30.18551642,  8.98905565, 22.52555581, 24.90957196, 13.69760067,\n",
       "       16.63487369, 17.31427916, 24.09883559, 20.79154862, 17.43602178,\n",
       "       12.5454281 , 15.56268473, 18.48940338, 24.42174435,  8.73915295,\n",
       "        8.74679884, 36.10290092, 18.20390753, 16.13486241, 17.66640791,\n",
       "       27.91578511, 25.39447527, 22.98950937, 27.80865979, 22.60010723,\n",
       "       25.46653332, 23.55520728, 37.70000277, 20.16278642, 26.42791213,\n",
       "       12.1449368 , 17.08320521, 24.81752636, 26.54994259, 25.39650705,\n",
       "        9.92598603, 41.56516156, 24.08491686, 18.1401252 , 20.67784741,\n",
       "       24.74780082, 20.2068522 , 28.02281378,  9.54317   , 24.87302902,\n",
       "       27.02800625, 17.59799816, 15.86467555, 13.76392952, 20.7520773 ,\n",
       "       17.27501642, 28.26836193, 22.42849248, 23.56715875, 18.06064654,\n",
       "       17.6433614 , -2.5728371 , 40.9259357 , 32.27571549, 19.84436281,\n",
       "       33.66675537, 14.34674765, 18.2833116 , 30.62199645, 12.69339276,\n",
       "       19.24882751, 22.51516221, 22.80200416, 11.31940622, 19.66833797,\n",
       "       31.1003113 , 38.81750458, 19.9579452 , 23.89165349, 23.1895388 ,\n",
       "       11.97094062, 19.56513278, 32.61579409, 25.40414515, 20.99715287,\n",
       "       21.59799338, 20.98648398, 20.38206606, 31.69631162, 30.95270704,\n",
       "       22.64746113, 22.75543801, 14.50928773, 19.61322657, 18.94176179,\n",
       "       32.96252722, 30.63439294, 20.25315797, 21.09215544, 15.98127387,\n",
       "       21.12520028, 28.62620753, 17.19608931, 11.65781192, 37.57791834,\n",
       "       32.78090993, 24.04599188, 27.57818694, 29.20271219, 20.31461043,\n",
       "       19.00113751, 19.51776506, 21.02399069, 20.68104733, 18.61566653,\n",
       "       19.48839848, 32.07806119, 19.45699527, 44.08851131, 13.15542828,\n",
       "       25.08736234, 26.75102019, 15.43177641,  8.72029697, 26.97178819,\n",
       "       19.94856186, 30.77295617, 21.47364636, 23.90173075, 32.87315344,\n",
       "       15.9759825 , 35.0189    , 11.44402765, 20.84675539, 25.39394384,\n",
       "       34.08920935,  4.96501837, 18.01705236, 17.79594727, 18.19645964,\n",
       "       18.7565257 , 26.6127385 , 21.93530303, 17.63019898, 20.67906903,\n",
       "       23.19719411, 11.03124955, 15.23880019, 22.29717027,  8.48541349,\n",
       "       29.51145657, 13.67309666, 19.2707108 , 31.40808553, 17.12303194,\n",
       "       22.23443932, 16.09180281])"
      ]
     },
     "execution_count": 1288,
     "metadata": {},
     "output_type": "execute_result"
    }
   ],
   "source": [
    "y_pred"
   ]
  },
  {
   "cell_type": "code",
   "execution_count": 1289,
   "id": "452057d8",
   "metadata": {},
   "outputs": [
    {
     "data": {
      "text/plain": [
       "341    32.7\n",
       "32     13.2\n",
       "120    22.0\n",
       "83     22.9\n",
       "428    11.0\n",
       "       ... \n",
       "396    12.5\n",
       "178    29.9\n",
       "139    17.8\n",
       "86     22.5\n",
       "433    14.3\n",
       "Length: 152, dtype: float64"
      ]
     },
     "execution_count": 1289,
     "metadata": {},
     "output_type": "execute_result"
    }
   ],
   "source": [
    "y_test"
   ]
  },
  {
   "cell_type": "code",
   "execution_count": 1290,
   "id": "eab37b04",
   "metadata": {},
   "outputs": [],
   "source": [
    "# evaluation & mean_square "
   ]
  },
  {
   "cell_type": "code",
   "execution_count": 1291,
   "id": "78a5297b",
   "metadata": {},
   "outputs": [],
   "source": [
    "mse = mean_squared_error(y_test, y_pred)"
   ]
  },
  {
   "cell_type": "code",
   "execution_count": 1292,
   "id": "b9fd96ec",
   "metadata": {},
   "outputs": [
    {
     "data": {
      "text/plain": [
       "28.621352220152204"
      ]
     },
     "execution_count": 1292,
     "metadata": {},
     "output_type": "execute_result"
    }
   ],
   "source": [
    "mse"
   ]
  },
  {
   "cell_type": "code",
   "execution_count": 1293,
   "id": "0fec28be",
   "metadata": {},
   "outputs": [],
   "source": [
    "r2 = r2_score(y_test, y_pred)"
   ]
  },
  {
   "cell_type": "code",
   "execution_count": 1294,
   "id": "edc14133",
   "metadata": {},
   "outputs": [
    {
     "data": {
      "text/plain": [
       "0.6677024833281462"
      ]
     },
     "execution_count": 1294,
     "metadata": {},
     "output_type": "execute_result"
    }
   ],
   "source": [
    "r2"
   ]
  },
  {
   "cell_type": "code",
   "execution_count": 1295,
   "id": "c84718e3",
   "metadata": {},
   "outputs": [],
   "source": [
    "# cross_validation"
   ]
  },
  {
   "cell_type": "code",
   "execution_count": 1296,
   "id": "8c83451e",
   "metadata": {},
   "outputs": [],
   "source": [
    "from sklearn.model_selection import cross_val_score"
   ]
  },
  {
   "cell_type": "code",
   "execution_count": 1297,
   "id": "1e77373c",
   "metadata": {},
   "outputs": [],
   "source": [
    "lr_score= cross_val_score(lr, X,y, cv=5, scoring = \"neg_mean_squared_error\")"
   ]
  },
  {
   "cell_type": "code",
   "execution_count": 1298,
   "id": "b8a09d48",
   "metadata": {},
   "outputs": [
    {
     "data": {
      "text/plain": [
       "array([-12.46030057, -26.04862111, -33.07413798, -80.76237112,\n",
       "       -33.31360656])"
      ]
     },
     "execution_count": 1298,
     "metadata": {},
     "output_type": "execute_result"
    }
   ],
   "source": [
    "lr_score"
   ]
  },
  {
   "cell_type": "code",
   "execution_count": 1299,
   "id": "0694e267",
   "metadata": {},
   "outputs": [
    {
     "data": {
      "text/plain": [
       "array([12.46030057, 26.04862111, 33.07413798, 80.76237112, 33.31360656])"
      ]
     },
     "execution_count": 1299,
     "metadata": {},
     "output_type": "execute_result"
    }
   ],
   "source": [
    "-lr_score"
   ]
  },
  {
   "cell_type": "code",
   "execution_count": 1300,
   "id": "734bf7a4",
   "metadata": {},
   "outputs": [
    {
     "data": {
      "text/plain": [
       "37.131807467699204"
      ]
     },
     "execution_count": 1300,
     "metadata": {},
     "output_type": "execute_result"
    }
   ],
   "source": [
    "np.mean(-lr_score)"
   ]
  },
  {
   "cell_type": "code",
   "execution_count": 1301,
   "id": "c670063d",
   "metadata": {},
   "outputs": [],
   "source": [
    "# polynomial regression"
   ]
  },
  {
   "cell_type": "code",
   "execution_count": 1302,
   "id": "60e2994e",
   "metadata": {},
   "outputs": [],
   "source": [
    "from sklearn.preprocessing import PolynomialFeatures"
   ]
  },
  {
   "cell_type": "code",
   "execution_count": 1303,
   "id": "1cca3a07",
   "metadata": {},
   "outputs": [],
   "source": [
    "poly = PolynomialFeatures(degree=2)"
   ]
  },
  {
   "cell_type": "code",
   "execution_count": 1304,
   "id": "aa577ced",
   "metadata": {},
   "outputs": [],
   "source": [
    "x_poly = poly.fit_transform(X)"
   ]
  },
  {
   "cell_type": "code",
   "execution_count": 1305,
   "id": "ff71d022",
   "metadata": {},
   "outputs": [
    {
     "data": {
      "text/plain": [
       "(506, 105)"
      ]
     },
     "execution_count": 1305,
     "metadata": {},
     "output_type": "execute_result"
    }
   ],
   "source": [
    "x_poly.shape"
   ]
  },
  {
   "cell_type": "code",
   "execution_count": 1306,
   "id": "101342c5",
   "metadata": {},
   "outputs": [],
   "source": [
    "x_poly_train, x_poly_test, y_poly_train, y_poly_test = train_test_split(x_poly, y)"
   ]
  },
  {
   "cell_type": "code",
   "execution_count": 1307,
   "id": "96de1fe6",
   "metadata": {},
   "outputs": [
    {
     "name": "stdout",
     "output_type": "stream",
     "text": [
      "(506, 105) (506,)\n"
     ]
    }
   ],
   "source": [
    "print(x_poly.shape, y.shape)"
   ]
  },
  {
   "cell_type": "code",
   "execution_count": 1308,
   "id": "c31d4c6b",
   "metadata": {},
   "outputs": [
    {
     "data": {
      "text/plain": [
       "((127, 105), (379,))"
      ]
     },
     "execution_count": 1308,
     "metadata": {},
     "output_type": "execute_result"
    }
   ],
   "source": [
    "x_poly_test.shape, y_poly_train.shape"
   ]
  },
  {
   "cell_type": "code",
   "execution_count": 1309,
   "id": "9b962a75",
   "metadata": {},
   "outputs": [
    {
     "data": {
      "text/plain": [
       "LinearRegression()"
      ]
     },
     "execution_count": 1309,
     "metadata": {},
     "output_type": "execute_result"
    }
   ],
   "source": [
    "lr.fit(x_poly_train, y_poly_train)"
   ]
  },
  {
   "cell_type": "code",
   "execution_count": 1310,
   "id": "e0f995bf",
   "metadata": {},
   "outputs": [],
   "source": [
    "y_poly_pred = lr.predict(x_poly_test)"
   ]
  },
  {
   "cell_type": "code",
   "execution_count": 1311,
   "id": "47439a58",
   "metadata": {},
   "outputs": [],
   "source": [
    "mse_poly = mean_squared_error(y_poly_test,y_poly_pred)"
   ]
  },
  {
   "cell_type": "code",
   "execution_count": 1312,
   "id": "ac9c119c",
   "metadata": {},
   "outputs": [
    {
     "data": {
      "text/plain": [
       "14.806844720957779"
      ]
     },
     "execution_count": 1312,
     "metadata": {},
     "output_type": "execute_result"
    }
   ],
   "source": [
    "mse_poly"
   ]
  },
  {
   "cell_type": "code",
   "execution_count": 1313,
   "id": "01465c93",
   "metadata": {},
   "outputs": [],
   "source": [
    "r2_poly = r2_score(y_poly_test, y_poly_pred)"
   ]
  },
  {
   "cell_type": "code",
   "execution_count": 1314,
   "id": "53f06d89",
   "metadata": {},
   "outputs": [
    {
     "data": {
      "text/plain": [
       "0.8436712395637822"
      ]
     },
     "execution_count": 1314,
     "metadata": {},
     "output_type": "execute_result"
    }
   ],
   "source": [
    "r2_poly"
   ]
  },
  {
   "cell_type": "code",
   "execution_count": 1315,
   "id": "251eed48",
   "metadata": {},
   "outputs": [],
   "source": [
    "# bias-variance trade-off in terms of the degree of polynomials"
   ]
  },
  {
   "cell_type": "code",
   "execution_count": 1316,
   "id": "6eda4f35",
   "metadata": {},
   "outputs": [],
   "source": [
    "# generate dataset"
   ]
  },
  {
   "cell_type": "code",
   "execution_count": 1317,
   "id": "0869b72d",
   "metadata": {},
   "outputs": [],
   "source": [
    "np.random.seed(1234)"
   ]
  },
  {
   "cell_type": "code",
   "execution_count": 1318,
   "id": "cf7d7ee9",
   "metadata": {},
   "outputs": [],
   "source": [
    "X = 2 * np.random.normal(0, 1, 30)"
   ]
  },
  {
   "cell_type": "code",
   "execution_count": 1319,
   "id": "9abc4eae",
   "metadata": {},
   "outputs": [],
   "source": [
    "y = X * np.sin(X) + 0.1 * np.random.normal(0, 1, 30)"
   ]
  },
  {
   "cell_type": "code",
   "execution_count": 1320,
   "id": "9fff1252",
   "metadata": {},
   "outputs": [
    {
     "data": {
      "text/plain": [
       "array([ 9.42870327e-01, -2.38195139e+00,  2.86541394e+00, -6.25303792e-01,\n",
       "       -1.44117747e+00,  1.77432588e+00,  1.71917683e+00, -1.27304701e+00,\n",
       "        3.13927442e-02, -4.48536991e+00,  2.30007145e+00,  1.98389204e+00,\n",
       "        1.90664826e+00, -4.04250964e+00, -6.68154732e-01,  4.23672937e-03,\n",
       "        8.10906823e-01,  5.78183882e-01,  2.64231638e+00, -3.09381111e+00,\n",
       "       -4.05292649e-01, -1.31193869e+00,  3.86842753e-01,  1.10687782e+00,\n",
       "        2.63630311e+00, -9.38610569e-01,  1.35110817e+00, -3.63405445e+00,\n",
       "       -3.66217080e-01,  2.11793838e+00])"
      ]
     },
     "execution_count": 1320,
     "metadata": {},
     "output_type": "execute_result"
    }
   ],
   "source": [
    "X"
   ]
  },
  {
   "cell_type": "code",
   "execution_count": 1321,
   "id": "9ec7116b",
   "metadata": {},
   "outputs": [
    {
     "name": "stdout",
     "output_type": "stream",
     "text": [
      "(30,)\n"
     ]
    }
   ],
   "source": [
    "print(X.shape)"
   ]
  },
  {
   "cell_type": "code",
   "execution_count": 1322,
   "id": "6b2678cf",
   "metadata": {},
   "outputs": [
    {
     "data": {
      "text/plain": [
       "array([ 0.72323158,  1.67410169,  0.8861023 ,  0.4706114 ,  1.51545949,\n",
       "        1.72549332,  1.71275746,  1.18475243,  0.08515281, -4.13118668,\n",
       "        1.72268573,  1.76036731,  1.80373778, -3.37640728,  0.43872685,\n",
       "       -0.08969773,  0.57415671,  0.31780868,  1.3406568 ,  0.1692977 ,\n",
       "        0.24390279,  1.12364785,  0.00574543,  0.97979567,  1.22130681,\n",
       "        0.74275072,  1.35403693, -1.72171984,  0.18771102,  1.96331671])"
      ]
     },
     "execution_count": 1322,
     "metadata": {},
     "output_type": "execute_result"
    }
   ],
   "source": [
    "y"
   ]
  },
  {
   "cell_type": "code",
   "execution_count": 1323,
   "id": "7d9db9a0",
   "metadata": {},
   "outputs": [
    {
     "name": "stdout",
     "output_type": "stream",
     "text": [
      "(30,)\n"
     ]
    }
   ],
   "source": [
    "print(y.shape)"
   ]
  },
  {
   "cell_type": "code",
   "execution_count": 1324,
   "id": "4a8d1132",
   "metadata": {},
   "outputs": [
    {
     "data": {
      "text/plain": [
       "<matplotlib.collections.PathCollection at 0x135eebf40>"
      ]
     },
     "execution_count": 1324,
     "metadata": {},
     "output_type": "execute_result"
    },
    {
     "data": {
      "image/png": "[encoded data removed]",
      "text/plain": [
       "<Figure size 432x288 with 1 Axes>"
      ]
     },
     "metadata": {
      "needs_background": "light"
     },
     "output_type": "display_data"
    }
   ],
   "source": [
    "plt.scatter(X,y)"
   ]
  },
  {
   "cell_type": "code",
   "execution_count": 1325,
   "id": "edb21df7",
   "metadata": {},
   "outputs": [],
   "source": [
    "# polynomial fit"
   ]
  },
  {
   "cell_type": "code",
   "execution_count": 1326,
   "id": "180b9e83",
   "metadata": {},
   "outputs": [],
   "source": [
    "lr = LinearRegression()"
   ]
  },
  {
   "cell_type": "code",
   "execution_count": 1327,
   "id": "bf3b2846",
   "metadata": {},
   "outputs": [],
   "source": [
    "mse_train = [] \n",
    "mse_test = [] \n",
    "X_plot = np.linspace(X.min(), X.max(), 100)"
   ]
  },
  {
   "cell_type": "code",
   "execution_count": 1328,
   "id": "94b25db1",
   "metadata": {},
   "outputs": [],
   "source": [
    "N = np.arange(1, 16) # degree"
   ]
  },
  {
   "cell_type": "code",
   "execution_count": 1329,
   "id": "d86cdb7a",
   "metadata": {},
   "outputs": [
    {
     "data": {
      "text/plain": [
       "array([ 9.42870327e-01, -2.38195139e+00,  2.86541394e+00, -6.25303792e-01,\n",
       "       -1.44117747e+00,  1.77432588e+00,  1.71917683e+00, -1.27304701e+00,\n",
       "        3.13927442e-02, -4.48536991e+00,  2.30007145e+00,  1.98389204e+00,\n",
       "        1.90664826e+00, -4.04250964e+00, -6.68154732e-01,  4.23672937e-03,\n",
       "        8.10906823e-01,  5.78183882e-01,  2.64231638e+00, -3.09381111e+00,\n",
       "       -4.05292649e-01, -1.31193869e+00,  3.86842753e-01,  1.10687782e+00,\n",
       "        2.63630311e+00, -9.38610569e-01,  1.35110817e+00, -3.63405445e+00,\n",
       "       -3.66217080e-01,  2.11793838e+00])"
      ]
     },
     "execution_count": 1329,
     "metadata": {},
     "output_type": "execute_result"
    }
   ],
   "source": [
    "X"
   ]
  },
  {
   "cell_type": "code",
   "execution_count": 1351,
   "id": "9e9d87f3",
   "metadata": {},
   "outputs": [
    {
     "data": {
      "text/plain": [
       "array([ 1,  2,  3,  4,  5,  6,  7,  8,  9, 10, 11, 12, 13, 14, 15])"
      ]
     },
     "execution_count": 1351,
     "metadata": {},
     "output_type": "execute_result"
    }
   ],
   "source": [
    "N"
   ]
  },
  {
   "cell_type": "code",
   "execution_count": 1331,
   "id": "015f8759",
   "metadata": {},
   "outputs": [
    {
     "name": "stdout",
     "output_type": "stream",
     "text": [
      "(30, 2)\n",
      "(30, 3)\n",
      "(30, 4)\n",
      "(30, 5)\n",
      "(30, 6)\n",
      "(30, 7)\n",
      "(30, 8)\n",
      "(30, 9)\n",
      "(30, 10)\n",
      "(30, 11)\n",
      "(30, 12)\n",
      "(30, 13)\n",
      "(30, 14)\n",
      "(30, 15)\n",
      "(30, 16)\n"
     ]
    }
   ],
   "source": [
    "lr = LinearRegression()\n",
    "for n in N:\n",
    "    # create features for Polynomial regression \n",
    "#     lr = LinearRegression()\n",
    "    poly = PolynomialFeatures(degree=n)\n",
    "    X_poly = poly.fit_transform(X.reshape(-1,1))\n",
    "\n",
    "    print(X_poly.shape)\n",
    "    X_poly_train, X_poly_test, y_poly_train, y_poly_test = train_test_split(X_poly, y, random_state = 21, test_size = 0.3)\n",
    "    \n",
    "    lr.fit(X_poly_train, y_poly_train)\n",
    "    # evaluate the score \n",
    "    y_poly_train_pred = lr.predict(X_poly_train)\n",
    "    y_poly_test_pred = lr.predict(X_poly_test)\n",
    "#     y_plot_poly_pred = lr.predict(X_plot_poly)\n",
    "    mse_poly_train = mean_squared_error(y_poly_train, y_poly_train_pred)\n",
    "    mse_train.append(mse_poly_train)\n",
    "    mse_poly_test = mean_squared_error(y_poly_test, y_poly_test_pred)\n",
    "    mse_test.append(mse_poly_test)\n",
    "#     plt.figure()\n",
    "#     plt.scatter(X_poly_test[:, 1], y_poly_test, color = 'black')\n",
    "#     plt.scatter(X_poly_train[:,1], y_poly_train, color = 'red')\n",
    "#     plt.plot(X_plot, y_plot_poly_pred, color = 'blue')\n",
    "#     plt.title('Polynomial regression with degree {}'.format(n))\n",
    "    \n",
    "    "
   ]
  },
  {
   "cell_type": "code",
   "execution_count": 1332,
   "id": "3ee75472",
   "metadata": {},
   "outputs": [],
   "source": [
    "# lr = LinearRegression()\n",
    "# for n in N:\n",
    "#     # create features for Polynomial regression \n",
    "#     lr = LinearRegression()\n",
    "#     poly = PolynomialFeatures(degree=n)\n",
    "#     X_poly = poly.fit_transform(X.reshape(-1,1))\n",
    "#     X_plot_poly = poly.fit_transform(X_plot.reshape(-1,1))\n",
    "#     # create training and test datasets\n",
    "#     X_poly_train, X_poly_test, y_poly_train, y_poly_test = train_test_split(X_poly, y, random_state = 21, test_size = 0.3)\n",
    "#     # train \n",
    "#     lr.fit(X_poly_train, y_poly_train)\n",
    "#     # evaluate the score \n",
    "#     y_poly_train_pred = lr.predict(X_poly_train)\n",
    "#     y_poly_test_pred = lr.predict(X_poly_test)\n",
    "#     y_plot_poly_pred = lr.predict(X_plot_poly)\n",
    "#     mse_poly_train = mean_squared_error(y_poly_train, y_poly_train_pred)\n",
    "#     mse_train.append(mse_poly_train)\n",
    "#     mse_poly_test = mean_squared_error(y_poly_test, y_poly_test_pred)\n",
    "#     mse_test.append(mse_poly_test)\n",
    "#     plt.figure()\n",
    "#     plt.scatter(X_poly_test[:, 1], y_poly_test, color = 'black')\n",
    "#     plt.scatter(X_poly_train[:,1], y_poly_train, color = 'red')\n",
    "#     plt.plot(X_plot, y_plot_poly_pred, color = 'blue')\n",
    "#     plt.title('Polynomial regression with degree {}'.format(n))\n",
    "    \n",
    "    "
   ]
  },
  {
   "cell_type": "code",
   "execution_count": 1333,
   "id": "24b92114",
   "metadata": {},
   "outputs": [
    {
     "data": {
      "text/plain": [
       "[<matplotlib.lines.Line2D at 0x135f50ca0>]"
      ]
     },
     "execution_count": 1333,
     "metadata": {},
     "output_type": "execute_result"
    },
    {
     "data": {
      "image/png": "[encoded data removed]",
      "text/plain": [
       "<Figure size 432x288 with 1 Axes>"
      ]
     },
     "metadata": {
      "needs_background": "light"
     },
     "output_type": "display_data"
    }
   ],
   "source": [
    "plt.plot(N,mse_test)"
   ]
  },
  {
   "cell_type": "code",
   "execution_count": 1334,
   "id": "43dbdcaf",
   "metadata": {},
   "outputs": [
    {
     "data": {
      "text/plain": [
       "[<matplotlib.lines.Line2D at 0x135fb3fd0>]"
      ]
     },
     "execution_count": 1334,
     "metadata": {},
     "output_type": "execute_result"
    },
    {
     "data": {
      "image/png": "[encoded data removed]",
      "text/plain": [
       "<Figure size 432x288 with 1 Axes>"
      ]
     },
     "metadata": {
      "needs_background": "light"
     },
     "output_type": "display_data"
    }
   ],
   "source": [
    "plt.plot(N[:9], mse_test[:9])"
   ]
  },
  {
   "cell_type": "code",
   "execution_count": 1335,
   "id": "22e6fca4",
   "metadata": {},
   "outputs": [],
   "source": [
    "# regularization "
   ]
  },
  {
   "cell_type": "code",
   "execution_count": 1336,
   "id": "823406d2",
   "metadata": {},
   "outputs": [],
   "source": [
    "X = pd.DataFrame(boston.data, columns = boston.feature_names)"
   ]
  },
  {
   "cell_type": "code",
   "execution_count": 1337,
   "id": "10752465",
   "metadata": {},
   "outputs": [],
   "source": [
    "y = pd.Series(boston.target)"
   ]
  },
  {
   "cell_type": "code",
   "execution_count": 1338,
   "id": "d6337d29",
   "metadata": {},
   "outputs": [],
   "source": [
    "# ridge regression "
   ]
  },
  {
   "cell_type": "code",
   "execution_count": 1339,
   "id": "d8d89cff",
   "metadata": {},
   "outputs": [],
   "source": [
    "from sklearn.linear_model import Ridge"
   ]
  },
  {
   "cell_type": "code",
   "execution_count": 1340,
   "id": "fa552279",
   "metadata": {},
   "outputs": [],
   "source": [
    "alphas = [0.1, 0.5, 1., 5., 10., 50., 100., 500.]\n",
    "mse_ridge_alpha = [] \n",
    "for alpha in alphas:\n",
    "    ridge = Ridge(alpha=alpha)\n",
    "    mse_ridge = cross_val_score(ridge, X,y, scoring = \"neg_mean_squared_error\", cv=5)\n",
    "    mse_ridge_alpha.append(np.mean(-mse_ridge))"
   ]
  },
  {
   "cell_type": "code",
   "execution_count": 1341,
   "id": "d55ad1e4",
   "metadata": {},
   "outputs": [
    {
     "data": {
      "text/plain": [
       "[36.7070453364963,\n",
       " 35.77970963344521,\n",
       " 35.26673109749669,\n",
       " 34.112014145713474,\n",
       " 33.39522445903663,\n",
       " 30.770000796597664,\n",
       " 29.905701947540386,\n",
       " 31.026964310909058]"
      ]
     },
     "execution_count": 1341,
     "metadata": {},
     "output_type": "execute_result"
    }
   ],
   "source": [
    "mse_ridge_alpha"
   ]
  },
  {
   "cell_type": "code",
   "execution_count": 1342,
   "id": "1e11f388",
   "metadata": {},
   "outputs": [],
   "source": [
    "coeff_ridge_df = pd.DataFrame()\n",
    "for alpha in alphas:\n",
    "    ridge = Ridge(alpha=alpha)\n",
    "    ridge.fit(X,y)\n",
    "    coeff_ridge = pd.Series(data=ridge.coef_, index = X.columns)\n",
    "    coeff_ridge_df[str(alpha)] = coeff_ridge"
   ]
  },
  {
   "cell_type": "code",
   "execution_count": 1343,
   "id": "95b7fbfa",
   "metadata": {},
   "outputs": [
    {
     "data": {
      "text/html": [
       "<div>\n",
       "<style scoped>\n",
       "    .dataframe tbody tr th:only-of-type {\n",
       "        vertical-align: middle;\n",
       "    }\n",
       "\n",
       "    .dataframe tbody tr th {\n",
       "        vertical-align: top;\n",
       "    }\n",
       "\n",
       "    .dataframe thead th {\n",
       "        text-align: right;\n",
       "    }\n",
       "</style>\n",
       "<table border=\"1\" class=\"dataframe\">\n",
       "  <thead>\n",
       "    <tr style=\"text-align: right;\">\n",
       "      <th></th>\n",
       "      <th>0.1</th>\n",
       "      <th>0.5</th>\n",
       "      <th>1.0</th>\n",
       "      <th>5.0</th>\n",
       "      <th>10.0</th>\n",
       "      <th>50.0</th>\n",
       "      <th>100.0</th>\n",
       "      <th>500.0</th>\n",
       "    </tr>\n",
       "  </thead>\n",
       "  <tbody>\n",
       "    <tr>\n",
       "      <th>CRIM</th>\n",
       "      <td>-0.107474</td>\n",
       "      <td>-0.105866</td>\n",
       "      <td>-0.104595</td>\n",
       "      <td>-0.101799</td>\n",
       "      <td>-0.101435</td>\n",
       "      <td>-0.102263</td>\n",
       "      <td>-0.102202</td>\n",
       "      <td>-0.096121</td>\n",
       "    </tr>\n",
       "    <tr>\n",
       "      <th>ZN</th>\n",
       "      <td>0.046572</td>\n",
       "      <td>0.047041</td>\n",
       "      <td>0.047443</td>\n",
       "      <td>0.048783</td>\n",
       "      <td>0.049579</td>\n",
       "      <td>0.052771</td>\n",
       "      <td>0.054496</td>\n",
       "      <td>0.055153</td>\n",
       "    </tr>\n",
       "    <tr>\n",
       "      <th>INDUS</th>\n",
       "      <td>0.015999</td>\n",
       "      <td>0.002252</td>\n",
       "      <td>-0.008805</td>\n",
       "      <td>-0.035897</td>\n",
       "      <td>-0.042962</td>\n",
       "      <td>-0.050937</td>\n",
       "      <td>-0.052826</td>\n",
       "      <td>-0.043565</td>\n",
       "    </tr>\n",
       "    <tr>\n",
       "      <th>CHAS</th>\n",
       "      <td>2.670019</td>\n",
       "      <td>2.612117</td>\n",
       "      <td>2.552393</td>\n",
       "      <td>2.229483</td>\n",
       "      <td>1.952021</td>\n",
       "      <td>1.006040</td>\n",
       "      <td>0.638335</td>\n",
       "      <td>0.179288</td>\n",
       "    </tr>\n",
       "    <tr>\n",
       "      <th>NOX</th>\n",
       "      <td>-16.684645</td>\n",
       "      <td>-13.416261</td>\n",
       "      <td>-10.777015</td>\n",
       "      <td>-4.185995</td>\n",
       "      <td>-2.371619</td>\n",
       "      <td>-0.527632</td>\n",
       "      <td>-0.262847</td>\n",
       "      <td>-0.042040</td>\n",
       "    </tr>\n",
       "    <tr>\n",
       "      <th>RM</th>\n",
       "      <td>3.818233</td>\n",
       "      <td>3.840757</td>\n",
       "      <td>3.854000</td>\n",
       "      <td>3.812647</td>\n",
       "      <td>3.702272</td>\n",
       "      <td>2.935628</td>\n",
       "      <td>2.334536</td>\n",
       "      <td>0.937658</td>\n",
       "    </tr>\n",
       "    <tr>\n",
       "      <th>AGE</th>\n",
       "      <td>-0.000269</td>\n",
       "      <td>-0.003144</td>\n",
       "      <td>-0.005415</td>\n",
       "      <td>-0.010329</td>\n",
       "      <td>-0.010707</td>\n",
       "      <td>-0.004807</td>\n",
       "      <td>0.001212</td>\n",
       "      <td>0.021679</td>\n",
       "    </tr>\n",
       "    <tr>\n",
       "      <th>DIS</th>\n",
       "      <td>-1.459626</td>\n",
       "      <td>-1.411491</td>\n",
       "      <td>-1.372654</td>\n",
       "      <td>-1.275862</td>\n",
       "      <td>-1.248808</td>\n",
       "      <td>-1.200947</td>\n",
       "      <td>-1.153390</td>\n",
       "      <td>-0.829537</td>\n",
       "    </tr>\n",
       "    <tr>\n",
       "      <th>RAD</th>\n",
       "      <td>0.303515</td>\n",
       "      <td>0.295989</td>\n",
       "      <td>0.290142</td>\n",
       "      <td>0.278791</td>\n",
       "      <td>0.279596</td>\n",
       "      <td>0.300619</td>\n",
       "      <td>0.315358</td>\n",
       "      <td>0.329432</td>\n",
       "    </tr>\n",
       "    <tr>\n",
       "      <th>TAX</th>\n",
       "      <td>-0.012421</td>\n",
       "      <td>-0.012686</td>\n",
       "      <td>-0.012912</td>\n",
       "      <td>-0.013623</td>\n",
       "      <td>-0.013993</td>\n",
       "      <td>-0.015208</td>\n",
       "      <td>-0.015856</td>\n",
       "      <td>-0.016820</td>\n",
       "    </tr>\n",
       "    <tr>\n",
       "      <th>PTRATIO</th>\n",
       "      <td>-0.940759</td>\n",
       "      <td>-0.904760</td>\n",
       "      <td>-0.876074</td>\n",
       "      <td>-0.809818</td>\n",
       "      <td>-0.797945</td>\n",
       "      <td>-0.815208</td>\n",
       "      <td>-0.829218</td>\n",
       "      <td>-0.769572</td>\n",
       "    </tr>\n",
       "    <tr>\n",
       "      <th>B</th>\n",
       "      <td>0.009368</td>\n",
       "      <td>0.009538</td>\n",
       "      <td>0.009673</td>\n",
       "      <td>0.009988</td>\n",
       "      <td>0.010037</td>\n",
       "      <td>0.009744</td>\n",
       "      <td>0.009393</td>\n",
       "      <td>0.008355</td>\n",
       "    </tr>\n",
       "    <tr>\n",
       "      <th>LSTAT</th>\n",
       "      <td>-0.525966</td>\n",
       "      <td>-0.529832</td>\n",
       "      <td>-0.533343</td>\n",
       "      <td>-0.547877</td>\n",
       "      <td>-0.559366</td>\n",
       "      <td>-0.618128</td>\n",
       "      <td>-0.660764</td>\n",
       "      <td>-0.752661</td>\n",
       "    </tr>\n",
       "  </tbody>\n",
       "</table>\n",
       "</div>"
      ],
      "text/plain": [
       "               0.1        0.5        1.0       5.0      10.0      50.0  \\\n",
       "CRIM     -0.107474  -0.105866  -0.104595 -0.101799 -0.101435 -0.102263   \n",
       "ZN        0.046572   0.047041   0.047443  0.048783  0.049579  0.052771   \n",
       "INDUS     0.015999   0.002252  -0.008805 -0.035897 -0.042962 -0.050937   \n",
       "CHAS      2.670019   2.612117   2.552393  2.229483  1.952021  1.006040   \n",
       "NOX     -16.684645 -13.416261 -10.777015 -4.185995 -2.371619 -0.527632   \n",
       "RM        3.818233   3.840757   3.854000  3.812647  3.702272  2.935628   \n",
       "AGE      -0.000269  -0.003144  -0.005415 -0.010329 -0.010707 -0.004807   \n",
       "DIS      -1.459626  -1.411491  -1.372654 -1.275862 -1.248808 -1.200947   \n",
       "RAD       0.303515   0.295989   0.290142  0.278791  0.279596  0.300619   \n",
       "TAX      -0.012421  -0.012686  -0.012912 -0.013623 -0.013993 -0.015208   \n",
       "PTRATIO  -0.940759  -0.904760  -0.876074 -0.809818 -0.797945 -0.815208   \n",
       "B         0.009368   0.009538   0.009673  0.009988  0.010037  0.009744   \n",
       "LSTAT    -0.525966  -0.529832  -0.533343 -0.547877 -0.559366 -0.618128   \n",
       "\n",
       "            100.0     500.0  \n",
       "CRIM    -0.102202 -0.096121  \n",
       "ZN       0.054496  0.055153  \n",
       "INDUS   -0.052826 -0.043565  \n",
       "CHAS     0.638335  0.179288  \n",
       "NOX     -0.262847 -0.042040  \n",
       "RM       2.334536  0.937658  \n",
       "AGE      0.001212  0.021679  \n",
       "DIS     -1.153390 -0.829537  \n",
       "RAD      0.315358  0.329432  \n",
       "TAX     -0.015856 -0.016820  \n",
       "PTRATIO -0.829218 -0.769572  \n",
       "B        0.009393  0.008355  \n",
       "LSTAT   -0.660764 -0.752661  "
      ]
     },
     "execution_count": 1343,
     "metadata": {},
     "output_type": "execute_result"
    }
   ],
   "source": [
    "coeff_ridge_df"
   ]
  },
  {
   "cell_type": "code",
   "execution_count": 1344,
   "id": "ccc85b89",
   "metadata": {},
   "outputs": [],
   "source": [
    "# Lasso Rigession"
   ]
  },
  {
   "cell_type": "code",
   "execution_count": 1345,
   "id": "763b86a5",
   "metadata": {},
   "outputs": [],
   "source": [
    "from sklearn.linear_model import Lasso"
   ]
  },
  {
   "cell_type": "code",
   "execution_count": 1346,
   "id": "4f5e9691",
   "metadata": {},
   "outputs": [],
   "source": [
    "alphas = [0.1, 0.5, 1., 5., 10., 50., 100., 500.]"
   ]
  },
  {
   "cell_type": "code",
   "execution_count": 1347,
   "id": "629d6856",
   "metadata": {},
   "outputs": [],
   "source": [
    "mse_lasso_alpha = []\n",
    "for alpha in alphas:\n",
    "    lasso = Lasso(alpha=alpha)\n",
    "    mse_lasso = cross_val_score(lasso, X, y, scoring = 'neg_mean_squared_error', cv = 5)\n",
    "    mse_lasso_alpha.append(np.mean(-mse_lasso))"
   ]
  },
  {
   "cell_type": "code",
   "execution_count": 1348,
   "id": "0dd531c7",
   "metadata": {},
   "outputs": [
    {
     "data": {
      "text/plain": [
       "[34.83043231820268,\n",
       " 34.63412434342715,\n",
       " 35.53158022069486,\n",
       " 43.102156856991606,\n",
       " 46.47357653501003,\n",
       " 72.6449610721323,\n",
       " 73.85835564329216,\n",
       " 91.25790517377096]"
      ]
     },
     "execution_count": 1348,
     "metadata": {},
     "output_type": "execute_result"
    }
   ],
   "source": [
    "mse_lasso_alpha"
   ]
  },
  {
   "cell_type": "code",
   "execution_count": 1349,
   "id": "a30eb257",
   "metadata": {},
   "outputs": [],
   "source": [
    "coeff_lasso_df = pd.DataFrame()\n",
    "for alpha in alphas:\n",
    "    lasso = Lasso(alpha=alpha)\n",
    "    lasso.fit(X,y)\n",
    "    coeff_lasso = pd.Series(data = lasso.coef_, index = X.columns)\n",
    "    coeff_lasso_df[str(alpha)] = coeff_lasso"
   ]
  },
  {
   "cell_type": "code",
   "execution_count": 1350,
   "id": "b9a9e92c",
   "metadata": {},
   "outputs": [
    {
     "data": {
      "text/html": [
       "<div>\n",
       "<style scoped>\n",
       "    .dataframe tbody tr th:only-of-type {\n",
       "        vertical-align: middle;\n",
       "    }\n",
       "\n",
       "    .dataframe tbody tr th {\n",
       "        vertical-align: top;\n",
       "    }\n",
       "\n",
       "    .dataframe thead th {\n",
       "        text-align: right;\n",
       "    }\n",
       "</style>\n",
       "<table border=\"1\" class=\"dataframe\">\n",
       "  <thead>\n",
       "    <tr style=\"text-align: right;\">\n",
       "      <th></th>\n",
       "      <th>0.1</th>\n",
       "      <th>0.5</th>\n",
       "      <th>1.0</th>\n",
       "      <th>5.0</th>\n",
       "      <th>10.0</th>\n",
       "      <th>50.0</th>\n",
       "      <th>100.0</th>\n",
       "      <th>500.0</th>\n",
       "    </tr>\n",
       "  </thead>\n",
       "  <tbody>\n",
       "    <tr>\n",
       "      <th>CRIM</th>\n",
       "      <td>-0.097894</td>\n",
       "      <td>-0.083289</td>\n",
       "      <td>-0.063437</td>\n",
       "      <td>-0.000000</td>\n",
       "      <td>-0.000000</td>\n",
       "      <td>-0.000000</td>\n",
       "      <td>-0.000000</td>\n",
       "      <td>-0.000000</td>\n",
       "    </tr>\n",
       "    <tr>\n",
       "      <th>ZN</th>\n",
       "      <td>0.049211</td>\n",
       "      <td>0.049544</td>\n",
       "      <td>0.049165</td>\n",
       "      <td>0.038467</td>\n",
       "      <td>0.026146</td>\n",
       "      <td>0.000000</td>\n",
       "      <td>0.000000</td>\n",
       "      <td>0.000000</td>\n",
       "    </tr>\n",
       "    <tr>\n",
       "      <th>INDUS</th>\n",
       "      <td>-0.036619</td>\n",
       "      <td>-0.005253</td>\n",
       "      <td>-0.000000</td>\n",
       "      <td>-0.000000</td>\n",
       "      <td>-0.000000</td>\n",
       "      <td>-0.000000</td>\n",
       "      <td>-0.000000</td>\n",
       "      <td>-0.000000</td>\n",
       "    </tr>\n",
       "    <tr>\n",
       "      <th>CHAS</th>\n",
       "      <td>0.955190</td>\n",
       "      <td>0.000000</td>\n",
       "      <td>0.000000</td>\n",
       "      <td>0.000000</td>\n",
       "      <td>0.000000</td>\n",
       "      <td>0.000000</td>\n",
       "      <td>0.000000</td>\n",
       "      <td>0.000000</td>\n",
       "    </tr>\n",
       "    <tr>\n",
       "      <th>NOX</th>\n",
       "      <td>-0.000000</td>\n",
       "      <td>-0.000000</td>\n",
       "      <td>-0.000000</td>\n",
       "      <td>0.000000</td>\n",
       "      <td>0.000000</td>\n",
       "      <td>-0.000000</td>\n",
       "      <td>-0.000000</td>\n",
       "      <td>-0.000000</td>\n",
       "    </tr>\n",
       "    <tr>\n",
       "      <th>RM</th>\n",
       "      <td>3.703202</td>\n",
       "      <td>2.498212</td>\n",
       "      <td>0.949811</td>\n",
       "      <td>0.000000</td>\n",
       "      <td>0.000000</td>\n",
       "      <td>0.000000</td>\n",
       "      <td>0.000000</td>\n",
       "      <td>0.000000</td>\n",
       "    </tr>\n",
       "    <tr>\n",
       "      <th>AGE</th>\n",
       "      <td>-0.010037</td>\n",
       "      <td>0.003604</td>\n",
       "      <td>0.020910</td>\n",
       "      <td>0.031679</td>\n",
       "      <td>0.000000</td>\n",
       "      <td>-0.000000</td>\n",
       "      <td>-0.000000</td>\n",
       "      <td>-0.000000</td>\n",
       "    </tr>\n",
       "    <tr>\n",
       "      <th>DIS</th>\n",
       "      <td>-1.160538</td>\n",
       "      <td>-0.936605</td>\n",
       "      <td>-0.668790</td>\n",
       "      <td>-0.000000</td>\n",
       "      <td>-0.000000</td>\n",
       "      <td>0.000000</td>\n",
       "      <td>0.000000</td>\n",
       "      <td>0.000000</td>\n",
       "    </tr>\n",
       "    <tr>\n",
       "      <th>RAD</th>\n",
       "      <td>0.274707</td>\n",
       "      <td>0.277451</td>\n",
       "      <td>0.264206</td>\n",
       "      <td>0.000000</td>\n",
       "      <td>0.000000</td>\n",
       "      <td>0.000000</td>\n",
       "      <td>-0.000000</td>\n",
       "      <td>-0.000000</td>\n",
       "    </tr>\n",
       "    <tr>\n",
       "      <th>TAX</th>\n",
       "      <td>-0.014570</td>\n",
       "      <td>-0.015442</td>\n",
       "      <td>-0.015212</td>\n",
       "      <td>-0.007669</td>\n",
       "      <td>-0.009282</td>\n",
       "      <td>-0.021376</td>\n",
       "      <td>-0.020972</td>\n",
       "      <td>-0.007931</td>\n",
       "    </tr>\n",
       "    <tr>\n",
       "      <th>PTRATIO</th>\n",
       "      <td>-0.770654</td>\n",
       "      <td>-0.758752</td>\n",
       "      <td>-0.722966</td>\n",
       "      <td>-0.000000</td>\n",
       "      <td>-0.000000</td>\n",
       "      <td>-0.000000</td>\n",
       "      <td>-0.000000</td>\n",
       "      <td>-0.000000</td>\n",
       "    </tr>\n",
       "    <tr>\n",
       "      <th>B</th>\n",
       "      <td>0.010249</td>\n",
       "      <td>0.009469</td>\n",
       "      <td>0.008247</td>\n",
       "      <td>0.006286</td>\n",
       "      <td>0.007496</td>\n",
       "      <td>0.010148</td>\n",
       "      <td>0.004466</td>\n",
       "      <td>0.000000</td>\n",
       "    </tr>\n",
       "    <tr>\n",
       "      <th>LSTAT</th>\n",
       "      <td>-0.568769</td>\n",
       "      <td>-0.656290</td>\n",
       "      <td>-0.761115</td>\n",
       "      <td>-0.747258</td>\n",
       "      <td>-0.564038</td>\n",
       "      <td>-0.000000</td>\n",
       "      <td>-0.000000</td>\n",
       "      <td>-0.000000</td>\n",
       "    </tr>\n",
       "  </tbody>\n",
       "</table>\n",
       "</div>"
      ],
      "text/plain": [
       "              0.1       0.5       1.0       5.0      10.0      50.0     100.0  \\\n",
       "CRIM    -0.097894 -0.083289 -0.063437 -0.000000 -0.000000 -0.000000 -0.000000   \n",
       "ZN       0.049211  0.049544  0.049165  0.038467  0.026146  0.000000  0.000000   \n",
       "INDUS   -0.036619 -0.005253 -0.000000 -0.000000 -0.000000 -0.000000 -0.000000   \n",
       "CHAS     0.955190  0.000000  0.000000  0.000000  0.000000  0.000000  0.000000   \n",
       "NOX     -0.000000 -0.000000 -0.000000  0.000000  0.000000 -0.000000 -0.000000   \n",
       "RM       3.703202  2.498212  0.949811  0.000000  0.000000  0.000000  0.000000   \n",
       "AGE     -0.010037  0.003604  0.020910  0.031679  0.000000 -0.000000 -0.000000   \n",
       "DIS     -1.160538 -0.936605 -0.668790 -0.000000 -0.000000  0.000000  0.000000   \n",
       "RAD      0.274707  0.277451  0.264206  0.000000  0.000000  0.000000 -0.000000   \n",
       "TAX     -0.014570 -0.015442 -0.015212 -0.007669 -0.009282 -0.021376 -0.020972   \n",
       "PTRATIO -0.770654 -0.758752 -0.722966 -0.000000 -0.000000 -0.000000 -0.000000   \n",
       "B        0.010249  0.009469  0.008247  0.006286  0.007496  0.010148  0.004466   \n",
       "LSTAT   -0.568769 -0.656290 -0.761115 -0.747258 -0.564038 -0.000000 -0.000000   \n",
       "\n",
       "            500.0  \n",
       "CRIM    -0.000000  \n",
       "ZN       0.000000  \n",
       "INDUS   -0.000000  \n",
       "CHAS     0.000000  \n",
       "NOX     -0.000000  \n",
       "RM       0.000000  \n",
       "AGE     -0.000000  \n",
       "DIS      0.000000  \n",
       "RAD     -0.000000  \n",
       "TAX     -0.007931  \n",
       "PTRATIO -0.000000  \n",
       "B        0.000000  \n",
       "LSTAT   -0.000000  "
      ]
     },
     "execution_count": 1350,
     "metadata": {},
     "output_type": "execute_result"
    }
   ],
   "source": [
    "coeff_lasso_df"
   ]
  },
  {
   "cell_type": "code",
   "execution_count": null,
   "id": "44db8b0f",
   "metadata": {},
   "outputs": [],
   "source": []
  },
  {
   "cell_type": "code",
   "execution_count": null,
   "id": "2a43924b",
   "metadata": {},
   "outputs": [],
   "source": []
  },
  {
   "cell_type": "code",
   "execution_count": null,
   "id": "d4b4e0eb",
   "metadata": {},
   "outputs": [],
   "source": []
  },
  {
   "cell_type": "code",
   "execution_count": null,
   "id": "763e1f44",
   "metadata": {},
   "outputs": [],
   "source": []
  },
  {
   "cell_type": "code",
   "execution_count": null,
   "id": "e8a772ed",
   "metadata": {},
   "outputs": [],
   "source": []
  },
  {
   "cell_type": "code",
   "execution_count": null,
   "id": "46d3d37d",
   "metadata": {},
   "outputs": [],
   "source": []
  },
  {
   "cell_type": "code",
   "execution_count": null,
   "id": "db59f7c9",
   "metadata": {},
   "outputs": [],
   "source": []
  },
  {
   "cell_type": "code",
   "execution_count": null,
   "id": "34956d5a",
   "metadata": {},
   "outputs": [],
   "source": []
  },
  {
   "cell_type": "code",
   "execution_count": null,
   "id": "2d36e89a",
   "metadata": {},
   "outputs": [],
   "source": []
  },
  {
   "cell_type": "code",
   "execution_count": null,
   "id": "e745e227",
   "metadata": {},
   "outputs": [],
   "source": []
  },
  {
   "cell_type": "code",
   "execution_count": null,
   "id": "ddf644a5",
   "metadata": {},
   "outputs": [],
   "source": []
  },
  {
   "cell_type": "code",
   "execution_count": null,
   "id": "f922c989",
   "metadata": {},
   "outputs": [],
   "source": []
  },
  {
   "cell_type": "code",
   "execution_count": null,
   "id": "825e3608",
   "metadata": {},
   "outputs": [],
   "source": []
  },
  {
   "cell_type": "code",
   "execution_count": null,
   "id": "f351f8ca",
   "metadata": {},
   "outputs": [],
   "source": []
  },
  {
   "cell_type": "code",
   "execution_count": null,
   "id": "74447924",
   "metadata": {},
   "outputs": [],
   "source": []
  },
  {
   "cell_type": "code",
   "execution_count": null,
   "id": "b1084b91",
   "metadata": {},
   "outputs": [],
   "source": []
  },
  {
   "cell_type": "code",
   "execution_count": null,
   "id": "2b133166",
   "metadata": {},
   "outputs": [],
   "source": []
  },
  {
   "cell_type": "code",
   "execution_count": null,
   "id": "5f8c8ed6",
   "metadata": {},
   "outputs": [],
   "source": []
  },
  {
   "cell_type": "code",
   "execution_count": null,
   "id": "17b4a2ae",
   "metadata": {},
   "outputs": [],
   "source": []
  },
  {
   "cell_type": "code",
   "execution_count": null,
   "id": "7d7e62c9",
   "metadata": {},
   "outputs": [],
   "source": []
  }
 ],
 "metadata": {
  "kernelspec": {
   "display_name": "Python 3 (ipykernel)",
   "language": "python",
   "name": "python3"
  },
  "language_info": {
   "codemirror_mode": {
    "name": "ipython",
    "version": 3
   },
   "file_extension": ".py",
   "mimetype": "text/x-python",
   "name": "python",
   "nbconvert_exporter": "python",
   "pygments_lexer": "ipython3",
   "version": "3.9.7"
  }
 },
 "nbformat": 4,
 "nbformat_minor": 5
}

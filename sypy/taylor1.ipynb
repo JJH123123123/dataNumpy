{
 "cells": [
  {
   "cell_type": "code",
   "execution_count": null,
   "id": "b9ccef1d",
   "metadata": {},
   "outputs": [],
   "source": [
    "import sympy as sp\n",
    "import numpy as np\n",
    "from matplotlib import pyplot as plt\n",
    "from math import factorial as facto"
   ]
  },
  {
   "cell_type": "code",
   "execution_count": 30,
   "id": "aa2d384c",
   "metadata": {},
   "outputs": [],
   "source": [
    "x = sp.symbols('x')"
   ]
  },
  {
   "cell_type": "code",
   "execution_count": null,
   "id": "eea1b6a4",
   "metadata": {},
   "outputs": [],
   "source": [
    "# 하나의 그래프에 이미지 \n",
    "# 하나의 그래프에 여러개의 함수 : taylor expansion \n",
    "# exp 과 taylor expansion 색깔 다르게 "
   ]
  },
  {
   "cell_type": "code",
   "execution_count": null,
   "id": "cd0b1e74",
   "metadata": {},
   "outputs": [],
   "source": [
    "t = np.arange(-2., 2.0, 0.02)\n",
    "# print(t)\n",
    "# taylor = (x+ 1)\n",
    "\n",
    "for i in range(1,100): # 1번부터 100항까지 \n",
    "    taylor = 1\n",
    "    for j in range(1,50+1):\n",
    "        taylor += (x-i)**j/facto(j)\n",
    "    sol = [taylor.subs('x',i) for i in t]\n",
    "    plt.plot(t,sol)\n",
    "plot.show()\n",
    "#     for j in range(-2)\n",
    "#     taylor.subs('x',)\n",
    "# type(taylor)\n",
    "# print(dir(taylor))\n",
    "# print(taylor.subs('x',2))"
   ]
  },
  {
   "cell_type": "code",
   "execution_count": null,
   "id": "cc3a26d5",
   "metadata": {},
   "outputs": [],
   "source": []
  },
  {
   "cell_type": "code",
   "execution_count": null,
   "id": "b715cac9",
   "metadata": {},
   "outputs": [],
   "source": []
  },
  {
   "cell_type": "code",
   "execution_count": null,
   "id": "9ab77ff0",
   "metadata": {},
   "outputs": [],
   "source": []
  },
  {
   "cell_type": "code",
   "execution_count": null,
   "id": "ffc386b3",
   "metadata": {},
   "outputs": [],
   "source": []
  },
  {
   "cell_type": "code",
   "execution_count": null,
   "id": "c4378d46",
   "metadata": {},
   "outputs": [],
   "source": []
  },
  {
   "cell_type": "code",
   "execution_count": null,
   "id": "6fbc75aa",
   "metadata": {},
   "outputs": [],
   "source": []
  }
 ],
 "metadata": {
  "kernelspec": {
   "display_name": "Python 3 (ipykernel)",
   "language": "python",
   "name": "python3"
  },
  "language_info": {
   "codemirror_mode": {
    "name": "ipython",
    "version": 3
   },
   "file_extension": ".py",
   "mimetype": "text/x-python",
   "name": "python",
   "nbconvert_exporter": "python",
   "pygments_lexer": "ipython3",
   "version": "3.9.7"
  }
 },
 "nbformat": 4,
 "nbformat_minor": 5
}
